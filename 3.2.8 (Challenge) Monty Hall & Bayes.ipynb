{
 "cells": [
  {
   "cell_type": "markdown",
   "metadata": {},
   "source": [
    "# Monty Hall Problem\n",
    "\n",
    "Game show\n",
    "\n",
    "3 doors - one with a prize behind it.\n",
    "\n",
    "After selecting a door, gameshow host shows you nothing is behind door 3.  Should you switch your initial choice?"
   ]
  },
  {
   "cell_type": "markdown",
   "metadata": {},
   "source": [
    "### Prior\n",
    "\n",
    "P( Car is in Door 1) = 1/3 \n",
    "P( Car is in door 2) = 1/3 \n",
    "P( Car is in Door 3) = 1/3 \n",
    "\n",
    "### Conditional Universe\n",
    "\n",
    "P( Open Door 3 | Car is in Door 1) = 1/2\n",
    "P( Open Door 3 | Car is in Door 2) = 1\n",
    "P( Open Door 3 | Car is in Door 3) = 0 \n",
    "\n",
    "### Posterior\n",
    "\n",
    "P( Car is in Door 1 | Open Door 3) = 1/3\n",
    "P( Car is in Door 2 | Open Door 3) = 2/3\n",
    "P( Car is in Door 3 | Open Door 3) = 0 \n",
    "\n"
   ]
  }
 ],
 "metadata": {
  "kernelspec": {
   "display_name": "Python 3",
   "language": "python",
   "name": "python3"
  },
  "language_info": {
   "codemirror_mode": {
    "name": "ipython",
    "version": 3
   },
   "file_extension": ".py",
   "mimetype": "text/x-python",
   "name": "python",
   "nbconvert_exporter": "python",
   "pygments_lexer": "ipython3",
   "version": "3.5.6"
  }
 },
 "nbformat": 4,
 "nbformat_minor": 2
}
