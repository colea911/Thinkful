{
 "cells": [
  {
   "cell_type": "markdown",
   "metadata": {},
   "source": [
    "P( Positive | True ) = 98% \n",
    "P( Positive | False 10%\n",
    "P( True ) = 0.5%\n",
    "\n",
    "### Calculate Probability That Test Will: \n",
    "\n",
    "1. Be positive - 0.1044\n",
    "2. Correctly diagnose a sufferer of Thripshaw's - 0.98\n",
    "3. Correctly identify a non-sufferer of Thripshaw's - 0.90\n",
    "4. Misclassify the person - 0.0996"
   ]
  },
  {
   "cell_type": "code",
   "execution_count": 10,
   "metadata": {},
   "outputs": [],
   "source": [
    "PositiveT = .98\n",
    "NegativeT = 1-PositiveT\n",
    "PositiveF = .10\n",
    "NegativeF = 1-PositiveF\n",
    "T = 0.005\n",
    "F = 1-T"
   ]
  },
  {
   "cell_type": "code",
   "execution_count": 8,
   "metadata": {},
   "outputs": [
    {
     "name": "stdout",
     "output_type": "stream",
     "text": [
      "0.1044\n"
     ]
    }
   ],
   "source": [
    "# Question 1\n",
    "\n",
    "Positive=(T*PositiveT)+(F*PositiveF)\n",
    "print(Positive)"
   ]
  },
  {
   "cell_type": "code",
   "execution_count": 13,
   "metadata": {},
   "outputs": [
    {
     "name": "stdout",
     "output_type": "stream",
     "text": [
      "0.09960000000000001\n"
     ]
    }
   ],
   "source": [
    "# Question 4\n",
    "\n",
    "# P(Positive | T) U P(Negative | T)\n",
    "\n",
    "Mis = F*PositiveF+T*NegativeT\n",
    "print(Mis)"
   ]
  }
 ],
 "metadata": {
  "kernelspec": {
   "display_name": "Python 3",
   "language": "python",
   "name": "python3"
  },
  "language_info": {
   "codemirror_mode": {
    "name": "ipython",
    "version": 3
   },
   "file_extension": ".py",
   "mimetype": "text/x-python",
   "name": "python",
   "nbconvert_exporter": "python",
   "pygments_lexer": "ipython3",
   "version": "3.5.6"
  }
 },
 "nbformat": 4,
 "nbformat_minor": 2
}
