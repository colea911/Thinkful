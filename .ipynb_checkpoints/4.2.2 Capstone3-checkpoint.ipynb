{
 "cells": [
  {
   "cell_type": "code",
   "execution_count": 894,
   "metadata": {},
   "outputs": [],
   "source": [
    "# Modules\n",
    "\n",
    "import matplotlib.pyplot as plt\n",
    "import numpy as np\n",
    "import pandas as pd\n",
    "import math\n",
    "import zipfile\n",
    "from io import BytesIO\n",
    "from requests import get\n",
    "from IPython.display import display, HTML\n",
    "%matplotlib inline"
   ]
  },
  {
   "cell_type": "code",
   "execution_count": 895,
   "metadata": {},
   "outputs": [],
   "source": [
    "def retrievezip(link,filenum=1):\n",
    "    request = get(link)\n",
    "    zf = zipfile.ZipFile(BytesIO(request.content)) \n",
    "    files = zf.namelist()\n",
    "    return(pd.read_csv(zf.open(files[filenum]),skiprows=4, delim_whitespace=False, header=0))"
   ]
  },
  {
   "cell_type": "code",
   "execution_count": 908,
   "metadata": {},
   "outputs": [],
   "source": [
    "df1 = retrievezip(\"http://api.worldbank.org/v2/en/indicator/ST.INT.ARVL?downloadformat=csv\", 1)\n",
    "df2 = retrievezip('http://api.worldbank.org/v2/en/indicator/NY.GDP.MKTP.CD?downloadformat=csv', 1)\n",
    "df3 = retrievezip('http://api.worldbank.org/v2/en/indicator/SP.POP.TOTL?downloadformat=csv', 1)\n",
    "df4 = retrievezip('http://api.worldbank.org/v2/en/indicator/ST.INT.ARVL?downloadformat=csv',1)\n"
   ]
  },
  {
   "cell_type": "code",
   "execution_count": 978,
   "metadata": {
    "scrolled": true
   },
   "outputs": [
    {
     "data": {
      "text/html": [
       "<div>\n",
       "<style scoped>\n",
       "    .dataframe tbody tr th:only-of-type {\n",
       "        vertical-align: middle;\n",
       "    }\n",
       "\n",
       "    .dataframe tbody tr th {\n",
       "        vertical-align: top;\n",
       "    }\n",
       "\n",
       "    .dataframe thead th {\n",
       "        text-align: right;\n",
       "    }\n",
       "</style>\n",
       "<table border=\"1\" class=\"dataframe\">\n",
       "  <thead>\n",
       "    <tr style=\"text-align: right;\">\n",
       "      <th></th>\n",
       "      <th>Country Name</th>\n",
       "      <th>Country Code</th>\n",
       "      <th>Indicator Name</th>\n",
       "      <th>2000</th>\n",
       "      <th>2001</th>\n",
       "      <th>2002</th>\n",
       "      <th>2003</th>\n",
       "      <th>2004</th>\n",
       "      <th>2005</th>\n",
       "      <th>2006</th>\n",
       "      <th>2007</th>\n",
       "      <th>2008</th>\n",
       "      <th>2009</th>\n",
       "      <th>2010</th>\n",
       "      <th>2011</th>\n",
       "      <th>2012</th>\n",
       "      <th>2013</th>\n",
       "      <th>2014</th>\n",
       "      <th>2015</th>\n",
       "      <th>mean</th>\n",
       "    </tr>\n",
       "  </thead>\n",
       "  <tbody>\n",
       "    <tr>\n",
       "      <th>Burundi</th>\n",
       "      <td>Burundi</td>\n",
       "      <td>BDI</td>\n",
       "      <td>Population, total</td>\n",
       "      <td>6400706.0</td>\n",
       "      <td>6555829.0</td>\n",
       "      <td>6741569.0</td>\n",
       "      <td>6953113.0</td>\n",
       "      <td>7182451.0</td>\n",
       "      <td>7423289.0</td>\n",
       "      <td>7675338.0</td>\n",
       "      <td>7939573.0</td>\n",
       "      <td>8212264.0</td>\n",
       "      <td>8489031.0</td>\n",
       "      <td>8766930.0</td>\n",
       "      <td>9043508.0</td>\n",
       "      <td>9319710.0</td>\n",
       "      <td>9600186.0</td>\n",
       "      <td>9891790.0</td>\n",
       "      <td>10199270.0</td>\n",
       "      <td>8150000.0</td>\n",
       "    </tr>\n",
       "    <tr>\n",
       "      <th>Ethiopia</th>\n",
       "      <td>Ethiopia</td>\n",
       "      <td>ETH</td>\n",
       "      <td>Population, total</td>\n",
       "      <td>66537331.0</td>\n",
       "      <td>68492257.0</td>\n",
       "      <td>70497192.0</td>\n",
       "      <td>72545144.0</td>\n",
       "      <td>74624405.0</td>\n",
       "      <td>76727083.0</td>\n",
       "      <td>78850689.0</td>\n",
       "      <td>81000409.0</td>\n",
       "      <td>83184892.0</td>\n",
       "      <td>85416253.0</td>\n",
       "      <td>87702670.0</td>\n",
       "      <td>90046756.0</td>\n",
       "      <td>92444183.0</td>\n",
       "      <td>94887724.0</td>\n",
       "      <td>97366774.0</td>\n",
       "      <td>99873033.0</td>\n",
       "      <td>82512000.0</td>\n",
       "    </tr>\n",
       "    <tr>\n",
       "      <th>Kenya</th>\n",
       "      <td>Kenya</td>\n",
       "      <td>KEN</td>\n",
       "      <td>Population, total</td>\n",
       "      <td>31450483.0</td>\n",
       "      <td>32321482.0</td>\n",
       "      <td>33214009.0</td>\n",
       "      <td>34130852.0</td>\n",
       "      <td>35074931.0</td>\n",
       "      <td>36048288.0</td>\n",
       "      <td>37052050.0</td>\n",
       "      <td>38085909.0</td>\n",
       "      <td>39148416.0</td>\n",
       "      <td>40237204.0</td>\n",
       "      <td>41350152.0</td>\n",
       "      <td>42486839.0</td>\n",
       "      <td>43646629.0</td>\n",
       "      <td>44826849.0</td>\n",
       "      <td>46024250.0</td>\n",
       "      <td>47236259.0</td>\n",
       "      <td>38896000.0</td>\n",
       "    </tr>\n",
       "    <tr>\n",
       "      <th>Rwanda</th>\n",
       "      <td>Rwanda</td>\n",
       "      <td>RWA</td>\n",
       "      <td>Population, total</td>\n",
       "      <td>8025703.0</td>\n",
       "      <td>8329406.0</td>\n",
       "      <td>8536205.0</td>\n",
       "      <td>8680346.0</td>\n",
       "      <td>8818438.0</td>\n",
       "      <td>8991735.0</td>\n",
       "      <td>9206580.0</td>\n",
       "      <td>9447402.0</td>\n",
       "      <td>9708169.0</td>\n",
       "      <td>9977446.0</td>\n",
       "      <td>10246842.0</td>\n",
       "      <td>10516071.0</td>\n",
       "      <td>10788853.0</td>\n",
       "      <td>11065151.0</td>\n",
       "      <td>11345357.0</td>\n",
       "      <td>11629553.0</td>\n",
       "      <td>9707000.0</td>\n",
       "    </tr>\n",
       "    <tr>\n",
       "      <th>Tanzania</th>\n",
       "      <td>Tanzania</td>\n",
       "      <td>TZA</td>\n",
       "      <td>Population, total</td>\n",
       "      <td>34178042.0</td>\n",
       "      <td>35117019.0</td>\n",
       "      <td>36105808.0</td>\n",
       "      <td>37149072.0</td>\n",
       "      <td>38249984.0</td>\n",
       "      <td>39410545.0</td>\n",
       "      <td>40634948.0</td>\n",
       "      <td>41923715.0</td>\n",
       "      <td>43270144.0</td>\n",
       "      <td>44664231.0</td>\n",
       "      <td>46098591.0</td>\n",
       "      <td>47570902.0</td>\n",
       "      <td>49082997.0</td>\n",
       "      <td>50636595.0</td>\n",
       "      <td>52234869.0</td>\n",
       "      <td>53879957.0</td>\n",
       "      <td>43138000.0</td>\n",
       "    </tr>\n",
       "    <tr>\n",
       "      <th>Uganda</th>\n",
       "      <td>Uganda</td>\n",
       "      <td>UGA</td>\n",
       "      <td>Population, total</td>\n",
       "      <td>24039274.0</td>\n",
       "      <td>24854892.0</td>\n",
       "      <td>25718048.0</td>\n",
       "      <td>26624820.0</td>\n",
       "      <td>27568436.0</td>\n",
       "      <td>28543940.0</td>\n",
       "      <td>29550662.0</td>\n",
       "      <td>30590487.0</td>\n",
       "      <td>31663896.0</td>\n",
       "      <td>32771895.0</td>\n",
       "      <td>33915133.0</td>\n",
       "      <td>35093648.0</td>\n",
       "      <td>36306796.0</td>\n",
       "      <td>37553726.0</td>\n",
       "      <td>38833338.0</td>\n",
       "      <td>40144870.0</td>\n",
       "      <td>31486000.0</td>\n",
       "    </tr>\n",
       "  </tbody>\n",
       "</table>\n",
       "</div>"
      ],
      "text/plain": [
       "         Country Name Country Code     Indicator Name        2000        2001  \\\n",
       "Burundi       Burundi          BDI  Population, total   6400706.0   6555829.0   \n",
       "Ethiopia     Ethiopia          ETH  Population, total  66537331.0  68492257.0   \n",
       "Kenya           Kenya          KEN  Population, total  31450483.0  32321482.0   \n",
       "Rwanda         Rwanda          RWA  Population, total   8025703.0   8329406.0   \n",
       "Tanzania     Tanzania          TZA  Population, total  34178042.0  35117019.0   \n",
       "Uganda         Uganda          UGA  Population, total  24039274.0  24854892.0   \n",
       "\n",
       "                2002        2003        2004        2005        2006  \\\n",
       "Burundi    6741569.0   6953113.0   7182451.0   7423289.0   7675338.0   \n",
       "Ethiopia  70497192.0  72545144.0  74624405.0  76727083.0  78850689.0   \n",
       "Kenya     33214009.0  34130852.0  35074931.0  36048288.0  37052050.0   \n",
       "Rwanda     8536205.0   8680346.0   8818438.0   8991735.0   9206580.0   \n",
       "Tanzania  36105808.0  37149072.0  38249984.0  39410545.0  40634948.0   \n",
       "Uganda    25718048.0  26624820.0  27568436.0  28543940.0  29550662.0   \n",
       "\n",
       "                2007        2008        2009        2010        2011  \\\n",
       "Burundi    7939573.0   8212264.0   8489031.0   8766930.0   9043508.0   \n",
       "Ethiopia  81000409.0  83184892.0  85416253.0  87702670.0  90046756.0   \n",
       "Kenya     38085909.0  39148416.0  40237204.0  41350152.0  42486839.0   \n",
       "Rwanda     9447402.0   9708169.0   9977446.0  10246842.0  10516071.0   \n",
       "Tanzania  41923715.0  43270144.0  44664231.0  46098591.0  47570902.0   \n",
       "Uganda    30590487.0  31663896.0  32771895.0  33915133.0  35093648.0   \n",
       "\n",
       "                2012        2013        2014        2015        mean  \n",
       "Burundi    9319710.0   9600186.0   9891790.0  10199270.0   8150000.0  \n",
       "Ethiopia  92444183.0  94887724.0  97366774.0  99873033.0  82512000.0  \n",
       "Kenya     43646629.0  44826849.0  46024250.0  47236259.0  38896000.0  \n",
       "Rwanda    10788853.0  11065151.0  11345357.0  11629553.0   9707000.0  \n",
       "Tanzania  49082997.0  50636595.0  52234869.0  53879957.0  43138000.0  \n",
       "Uganda    36306796.0  37553726.0  38833338.0  40144870.0  31486000.0  "
      ]
     },
     "metadata": {},
     "output_type": "display_data"
    }
   ],
   "source": [
    "# Glimpse of the data to see what the structre it\n",
    "display(df4)"
   ]
  },
  {
   "cell_type": "code",
   "execution_count": 909,
   "metadata": {},
   "outputs": [],
   "source": [
    "# Function to select years in databases\n",
    "\n",
    "def keepyears(dataframe, startyear, endyear, yearstart=3):\n",
    "    slice1=dataframe.drop(dataframe.columns[yearstart:dataframe.columns.get_loc(startyear)], axis=1)\n",
    "    slice2=slice1.drop(slice1.columns[slice1.columns.get_loc(endyear):], axis=1)\n",
    "    return(slice2)\n",
    "\n",
    "start=2000\n",
    "end=2016\n",
    "\n",
    "df1=keepyears(df1, start, end)\n",
    "df2=keepyears(df2, start, end)\n",
    "df3=keepyears(df3, start, end)\n",
    "df4=keepyears(df4, start, end)"
   ]
  },
  {
   "cell_type": "code",
   "execution_count": 981,
   "metadata": {},
   "outputs": [],
   "source": [
    "# Keep Rows of 6 East African countries\n",
    "\n",
    "countryindex=[\"Burundi\", \"Ethiopia\", \"Kenya\", \"Rwanda\", \"Tanzania\", \"Uganda\"]\n",
    "\n",
    "def selectcountries(dataframe, countries):\n",
    "    dataframe.index=countryindex\n",
    "    return(dataframe[dataframe[\"Country Name\"].isin(countries)])\n",
    "    \n",
    "df1=selectcountries(df1, countryindex)\n",
    "df2=selectcountries(df2, countryindex)\n",
    "df3=selectcountries(df3, countryindex)\n",
    "df4=selectcountries(df3, countryindex)"
   ]
  },
  {
   "cell_type": "code",
   "execution_count": 914,
   "metadata": {},
   "outputs": [
    {
     "data": {
      "text/html": [
       "<div>\n",
       "<style scoped>\n",
       "    .dataframe tbody tr th:only-of-type {\n",
       "        vertical-align: middle;\n",
       "    }\n",
       "\n",
       "    .dataframe tbody tr th {\n",
       "        vertical-align: top;\n",
       "    }\n",
       "\n",
       "    .dataframe thead th {\n",
       "        text-align: right;\n",
       "    }\n",
       "</style>\n",
       "<table border=\"1\" class=\"dataframe\">\n",
       "  <thead>\n",
       "    <tr style=\"text-align: right;\">\n",
       "      <th></th>\n",
       "      <th>Average Tourists</th>\n",
       "      <th>GDP Size</th>\n",
       "      <th>Population</th>\n",
       "      <th>Tourist Expenditures</th>\n",
       "    </tr>\n",
       "  </thead>\n",
       "  <tbody>\n",
       "    <tr>\n",
       "      <th>14</th>\n",
       "      <td>147000.0</td>\n",
       "      <td>1.693766e+09</td>\n",
       "      <td>8150000.0</td>\n",
       "      <td>8150000.0</td>\n",
       "    </tr>\n",
       "    <tr>\n",
       "      <th>70</th>\n",
       "      <td>402000.0</td>\n",
       "      <td>2.643097e+10</td>\n",
       "      <td>82512000.0</td>\n",
       "      <td>82512000.0</td>\n",
       "    </tr>\n",
       "    <tr>\n",
       "      <th>119</th>\n",
       "      <td>1277000.0</td>\n",
       "      <td>3.325744e+10</td>\n",
       "      <td>38896000.0</td>\n",
       "      <td>38896000.0</td>\n",
       "    </tr>\n",
       "    <tr>\n",
       "      <th>201</th>\n",
       "      <td>589000.0</td>\n",
       "      <td>4.525452e+09</td>\n",
       "      <td>9707000.0</td>\n",
       "      <td>9707000.0</td>\n",
       "    </tr>\n",
       "    <tr>\n",
       "      <th>244</th>\n",
       "      <td>744000.0</td>\n",
       "      <td>2.571721e+10</td>\n",
       "      <td>43138000.0</td>\n",
       "      <td>43138000.0</td>\n",
       "    </tr>\n",
       "    <tr>\n",
       "      <th>245</th>\n",
       "      <td>740000.0</td>\n",
       "      <td>1.491359e+10</td>\n",
       "      <td>31486000.0</td>\n",
       "      <td>31486000.0</td>\n",
       "    </tr>\n",
       "  </tbody>\n",
       "</table>\n",
       "</div>"
      ],
      "text/plain": [
       "     Average Tourists      GDP Size  Population  Tourist Expenditures\n",
       "14           147000.0  1.693766e+09   8150000.0             8150000.0\n",
       "70           402000.0  2.643097e+10  82512000.0            82512000.0\n",
       "119         1277000.0  3.325744e+10  38896000.0            38896000.0\n",
       "201          589000.0  4.525452e+09   9707000.0             9707000.0\n",
       "244          744000.0  2.571721e+10  43138000.0            43138000.0\n",
       "245          740000.0  1.491359e+10  31486000.0            31486000.0"
      ]
     },
     "execution_count": 914,
     "metadata": {},
     "output_type": "execute_result"
    }
   ],
   "source": [
    "# Calculate average tourists per year for each country\n",
    "\n",
    "df1['mean'] = round(df1.mean(axis=1),-3)\n",
    "df2['mean'] = round(df2.mean(axis=1),-3)\n",
    "df3['mean'] = round(df3.mean(axis=1),-3)\n",
    "df4['mean'] = round(df4.mean(axis=1),-3)\n",
    "\n",
    "aggregates.index=df1.index\n",
    "aggregates[\"Average Tourists\"]=(df1[\"mean\"])\n",
    "aggregates[\"GDP Size\"]=(df2[\"mean\"])\n",
    "aggregates[\"Population\"]=(df3[\"mean\"])\n",
    "aggregates[\"Tourist Expenditures\"]=(df4[\"mean\"])\n",
    "\n",
    "aggregates"
   ]
  },
  {
   "cell_type": "code",
   "execution_count": 975,
   "metadata": {},
   "outputs": [
    {
     "ename": "IndentationError",
     "evalue": "expected an indented block (<ipython-input-975-42eeccea599c>, line 5)",
     "output_type": "error",
     "traceback": [
      "\u001b[1;36m  File \u001b[1;32m\"<ipython-input-975-42eeccea599c>\"\u001b[1;36m, line \u001b[1;32m5\u001b[0m\n\u001b[1;33m    plt.subplot(2, 1, 1)\u001b[0m\n\u001b[1;37m      ^\u001b[0m\n\u001b[1;31mIndentationError\u001b[0m\u001b[1;31m:\u001b[0m expected an indented block\n"
     ]
    }
   ],
   "source": [
    "def plotdataframes(*dataframes):\n",
    "    \n",
    "    plt.figure(figsize=(8, 5))\n",
    "    for dataframe in dataframes:\n",
    "    plt.subplot(2, 1, 1)\n",
    "    plt.plot(dataframe.iloc[1,3:-1])\n",
    "    plt.plot(dataframe.iloc[2,3:-1])\n",
    "    plt.plot(dataframe.iloc[3,3:-1])\n",
    "    plt.plot(dataframe.iloc[4,3:-1])\n",
    "    plt.plot(dataframe.iloc[2,3:-1])\n",
    "    plt.title(\"Pop1\")\n",
    "\n",
    "    plt.subplot(2, 1, 2)\n",
    "    plt.plot(df2.iloc[1,3:-1])\n",
    "    plt.tight_layout()\n",
    "    plt.show()\n",
    "\n",
    "plotdataframe(df1)\n"
   ]
  },
  {
   "cell_type": "code",
   "execution_count": 982,
   "metadata": {},
   "outputs": [
    {
     "data": {
      "image/png": "[encoded data removed]",
      "text/plain": [
       "<Figure size 576x360 with 2 Axes>"
      ]
     },
     "metadata": {
      "needs_background": "light"
     },
     "output_type": "display_data"
    }
   ],
   "source": [
    "def plotdataframe(dataframe):\n",
    "    plt.figure(figsize=(8, 5))\n",
    "    \n",
    "    plt.subplot(2, 1, 1)\n",
    "    plt.plot(dataframe.loc[\"Burundi\",\"2000\":\"2004\"])\n",
    "    plt.plot(dataframe.iloc[2,3:-1])\n",
    "    plt.plot(dataframe.iloc[3,3:-1])\n",
    "    plt.plot(dataframe.iloc[4,3:-1])\n",
    "    plt.plot(dataframe.iloc[2,3:-1])\n",
    "    plt.title(\"Pop1\")\n",
    "\n",
    "    plt.subplot(2, 1, 2)\n",
    "    plt.plot(df2.iloc[1,3:-1])\n",
    "    plt.tight_layout()\n",
    "    plt.show()\n",
    "\n",
    "plotdataframe(df1)\n",
    "\n",
    "    "
   ]
  },
  {
   "cell_type": "code",
   "execution_count": 969,
   "metadata": {
    "scrolled": true
   },
   "outputs": [
    {
     "data": {
      "image/png": "[encoded data removed]",
      "text/plain": [
       "<Figure size 576x360 with 2 Axes>"
      ]
     },
     "metadata": {
      "needs_background": "light"
     },
     "output_type": "display_data"
    }
   ],
   "source": [
    "plt.figure(figsize=(8, 5))\n",
    "\n",
    "plt.subplot(2, 1, 1)\n",
    "plt.plot(df2.iloc[1,3:-1])\n",
    "plt.plot(df2.iloc[2,3:-1])\n",
    "plt.plot(df2.iloc[3,3:-1])\n",
    "plt.plot(df2.iloc[4,3:-1])\n",
    "plt.plot(df2.iloc[2,3:-1])\n",
    "plt.title(\"Pop1\")\n",
    "\n",
    "plt.subplot(2, 1, 2)\n",
    "plt.plot(df2.iloc[1,3:-1])\n",
    "\n",
    "plt.tight_layout()\n",
    "plt.show()"
   ]
  },
  {
   "cell_type": "code",
   "execution_count": 941,
   "metadata": {},
   "outputs": [
    {
     "data": {
      "text/plain": [
       "2000    8.24239e+09\n",
       "2001    8.23133e+09\n",
       "2002    7.85081e+09\n",
       "2003    8.62369e+09\n",
       "2004    1.01312e+10\n",
       "2005    1.24011e+10\n",
       "2006    1.52809e+10\n",
       "2007    1.97076e+10\n",
       "2008    2.70669e+10\n",
       "2009    3.24374e+10\n",
       "2010    2.99338e+10\n",
       "2011    3.19528e+10\n",
       "2012    4.33107e+10\n",
       "2013    4.76482e+10\n",
       "2014    5.56122e+10\n",
       "2015    6.44645e+10\n",
       "Name: 70, dtype: object"
      ]
     },
     "execution_count": 941,
     "metadata": {},
     "output_type": "execute_result"
    }
   ],
   "source": [
    "plotting=df2.iloc[1,3:-1]\n",
    "plotting"
   ]
  },
  {
   "cell_type": "code",
   "execution_count": 745,
   "metadata": {},
   "outputs": [
    {
     "ename": "SyntaxError",
     "evalue": "can't assign to operator (<ipython-input-745-e4783791d0c9>, line 1)",
     "output_type": "error",
     "traceback": [
      "\u001b[1;36m  File \u001b[1;32m\"<ipython-input-745-e4783791d0c9>\"\u001b[1;36m, line \u001b[1;32m1\u001b[0m\n\u001b[1;33m    (\"a\"+\"b\")=2\u001b[0m\n\u001b[1;37m               ^\u001b[0m\n\u001b[1;31mSyntaxError\u001b[0m\u001b[1;31m:\u001b[0m can't assign to operator\n"
     ]
    }
   ],
   "source": [
    "(terroristdata)"
   ]
  },
  {
   "cell_type": "code",
   "execution_count": 562,
   "metadata": {},
   "outputs": [],
   "source": [
    "# Import Terrorism Data \n",
    "\n",
    "dfterr = pd.read_excel(\"terrorismdata2.xlsx\")\n",
    "\n"
   ]
  },
  {
   "cell_type": "code",
   "execution_count": 563,
   "metadata": {},
   "outputs": [],
   "source": [
    "# Remove all rows in which data is not one of our countries of interest\n",
    "\n",
    "dfterr.country_txt\n",
    "dfterr=dfterr[dfterr[\"country_txt\"].isin(countryindex)]"
   ]
  },
  {
   "cell_type": "code",
   "execution_count": 564,
   "metadata": {},
   "outputs": [],
   "source": [
    "# Filter dataset by columns\n",
    "\n",
    "dfterr=dfterr.filter([\"iyear\", 'imonth',\"country_txt\",\"attacktype1_txt\",\"targtype1_txt\",\"nkill\",\"nwound\"])"
   ]
  },
  {
   "cell_type": "code",
   "execution_count": 567,
   "metadata": {},
   "outputs": [
    {
     "data": {
      "text/html": [
       "<div>\n",
       "<style scoped>\n",
       "    .dataframe tbody tr th:only-of-type {\n",
       "        vertical-align: middle;\n",
       "    }\n",
       "\n",
       "    .dataframe tbody tr th {\n",
       "        vertical-align: top;\n",
       "    }\n",
       "\n",
       "    .dataframe thead th {\n",
       "        text-align: right;\n",
       "    }\n",
       "</style>\n",
       "<table border=\"1\" class=\"dataframe\">\n",
       "  <thead>\n",
       "    <tr style=\"text-align: right;\">\n",
       "      <th></th>\n",
       "      <th>Burundi</th>\n",
       "      <th>Ethiopia</th>\n",
       "      <th>Kenya</th>\n",
       "      <th>Rwanda</th>\n",
       "      <th>Tanzania</th>\n",
       "      <th>Uganda</th>\n",
       "    </tr>\n",
       "  </thead>\n",
       "  <tbody>\n",
       "    <tr>\n",
       "      <th>0</th>\n",
       "      <td>NaN</td>\n",
       "      <td>NaN</td>\n",
       "      <td>NaN</td>\n",
       "      <td>NaN</td>\n",
       "      <td>NaN</td>\n",
       "      <td>NaN</td>\n",
       "    </tr>\n",
       "    <tr>\n",
       "      <th>1</th>\n",
       "      <td>3.9</td>\n",
       "      <td>7.36</td>\n",
       "      <td>4.88</td>\n",
       "      <td>3.78</td>\n",
       "      <td>1.67</td>\n",
       "      <td>7.01</td>\n",
       "    </tr>\n",
       "  </tbody>\n",
       "</table>\n",
       "</div>"
      ],
      "text/plain": [
       "   Burundi  Ethiopia  Kenya  Rwanda  Tanzania  Uganda\n",
       "0      NaN       NaN    NaN     NaN       NaN     NaN\n",
       "1      3.9      7.36   4.88    3.78      1.67    7.01"
      ]
     },
     "execution_count": 567,
     "metadata": {},
     "output_type": "execute_result"
    }
   ],
   "source": [
    "# Group by year and country and add averages to aggregate table\n",
    "\n",
    "terroristdata=dfterr.groupby([\"country_txt\", \"iyear\"]).mean()\n",
    "\n",
    "\n",
    "\n",
    "\n",
    "for country in countryindex:\n",
    "    dfterraverages[country]=round(terroristdata.nkill[country].sum()/terroristdata.nkill[country].count(),2)\n",
    "    "
   ]
  },
  {
   "cell_type": "code",
   "execution_count": 517,
   "metadata": {},
   "outputs": [
    {
     "ename": "SyntaxError",
     "evalue": "invalid syntax (<ipython-input-517-a4db160fd678>, line 1)",
     "output_type": "error",
     "traceback": [
      "\u001b[1;36m  File \u001b[1;32m\"<ipython-input-517-a4db160fd678>\"\u001b[1;36m, line \u001b[1;32m1\u001b[0m\n\u001b[1;33m    http://api.worldbank.org/v2/en/indicator/NY.GDP.MKTP.CD?downloadformat=csv\u001b[0m\n\u001b[1;37m        ^\u001b[0m\n\u001b[1;31mSyntaxError\u001b[0m\u001b[1;31m:\u001b[0m invalid syntax\n"
     ]
    }
   ],
   "source": [
    "http://api.worldbank.org/v2/en/indicator/NY.GDP.MKTP.CD?downloadformat=csv\n",
    "    API_NY.GDP.MKTP.CD_DS2_en_csv_v2_10134290\n",
    "\n"
   ]
  },
  {
   "cell_type": "code",
   "execution_count": 36,
   "metadata": {
    "scrolled": false
   },
   "outputs": [
    {
     "data": {
      "text/html": [
       "<div>\n",
       "<style scoped>\n",
       "    .dataframe tbody tr th:only-of-type {\n",
       "        vertical-align: middle;\n",
       "    }\n",
       "\n",
       "    .dataframe tbody tr th {\n",
       "        vertical-align: top;\n",
       "    }\n",
       "\n",
       "    .dataframe thead th {\n",
       "        text-align: right;\n",
       "    }\n",
       "</style>\n",
       "<table border=\"1\" class=\"dataframe\">\n",
       "  <thead>\n",
       "    <tr style=\"text-align: right;\">\n",
       "      <th></th>\n",
       "      <th>Country</th>\n",
       "      <th>Month</th>\n",
       "      <th>Year</th>\n",
       "      <th>Lat</th>\n",
       "      <th>Lon</th>\n",
       "      <th>Value</th>\n",
       "    </tr>\n",
       "  </thead>\n",
       "  <tbody>\n",
       "    <tr>\n",
       "      <th>0</th>\n",
       "      <td>Guinea</td>\n",
       "      <td>3</td>\n",
       "      <td>14</td>\n",
       "      <td>9.95</td>\n",
       "      <td>-9.7</td>\n",
       "      <td>122.0</td>\n",
       "    </tr>\n",
       "    <tr>\n",
       "      <th>1</th>\n",
       "      <td>Guinea</td>\n",
       "      <td>4</td>\n",
       "      <td>14</td>\n",
       "      <td>9.95</td>\n",
       "      <td>-9.7</td>\n",
       "      <td>224.0</td>\n",
       "    </tr>\n",
       "    <tr>\n",
       "      <th>2</th>\n",
       "      <td>Guinea</td>\n",
       "      <td>5</td>\n",
       "      <td>14</td>\n",
       "      <td>9.95</td>\n",
       "      <td>-9.7</td>\n",
       "      <td>291.0</td>\n",
       "    </tr>\n",
       "    <tr>\n",
       "      <th>3</th>\n",
       "      <td>Guinea</td>\n",
       "      <td>6</td>\n",
       "      <td>14</td>\n",
       "      <td>9.95</td>\n",
       "      <td>-9.7</td>\n",
       "      <td>413.0</td>\n",
       "    </tr>\n",
       "    <tr>\n",
       "      <th>4</th>\n",
       "      <td>Guinea</td>\n",
       "      <td>7</td>\n",
       "      <td>14</td>\n",
       "      <td>9.95</td>\n",
       "      <td>-9.7</td>\n",
       "      <td>460.0</td>\n",
       "    </tr>\n",
       "  </tbody>\n",
       "</table>\n",
       "</div>"
      ],
      "text/plain": [
       "  Country  Month  Year   Lat  Lon  Value\n",
       "0  Guinea      3    14  9.95 -9.7  122.0\n",
       "1  Guinea      4    14  9.95 -9.7  224.0\n",
       "2  Guinea      5    14  9.95 -9.7  291.0\n",
       "3  Guinea      6    14  9.95 -9.7  413.0\n",
       "4  Guinea      7    14  9.95 -9.7  460.0"
      ]
     },
     "execution_count": 36,
     "metadata": {},
     "output_type": "execute_result"
    }
   ],
   "source": [
    "import plotly.plotly as py\n",
    "import plotly.graph_objs as go\n",
    "\n",
    "import pandas as pd\n",
    "df = pd.read_csv('https://raw.githubusercontent.com/plotly/datasets/master/2014_ebola.csv')\n",
    "df.head()\n"
   ]
  },
  {
   "cell_type": "code",
   "execution_count": 37,
   "metadata": {},
   "outputs": [],
   "source": [
    "import plotly.plotly as py\n",
    "import plotly.tools as tools\n",
    "import pandas as pd\n",
    "tools.set_credentials_file(username='colea911', api_key='AbhiWkBmKs1yES1gXAlz')\n",
    "\n"
   ]
  },
  {
   "cell_type": "code",
   "execution_count": 38,
   "metadata": {},
   "outputs": [
    {
     "name": "stdout",
     "output_type": "stream",
     "text": [
      "High five! You successfully sent some data to your account on plotly. View your plot in your browser at https://plot.ly/~colea911/0 or inside your plot.ly account where it is named 'd3-world-map'\n"
     ]
    },
    {
     "data": {
      "text/html": [
       "<iframe id=\"igraph\" scrolling=\"no\" style=\"border:none;\" seamless=\"seamless\" src=\"https://plot.ly/~colea911/0.embed\" height=\"525px\" width=\"100%\"></iframe>"
      ],
      "text/plain": [
       "<plotly.tools.PlotlyDisplay object>"
      ]
     },
     "execution_count": 38,
     "metadata": {},
     "output_type": "execute_result"
    }
   ],
   "source": [
    "\n",
    "\n",
    "df = pd.read_csv('https://raw.githubusercontent.com/plotly/datasets/master/2014_world_gdp_with_codes.csv')\n",
    "\n",
    "data = [ dict(\n",
    "        type = 'choropleth',\n",
    "        locations = df['CODE'],\n",
    "        z = df['GDP (BILLIONS)'],\n",
    "        text = df['COUNTRY'],\n",
    "        colorscale = [[0,\"rgb(5, 10, 172)\"],[0.35,\"rgb(40, 60, 190)\"],[0.5,\"rgb(70, 100, 245)\"],\\\n",
    "            [0.6,\"rgb(90, 120, 245)\"],[0.7,\"rgb(106, 137, 247)\"],[1,\"rgb(220, 220, 220)\"]],\n",
    "        autocolorscale = False,\n",
    "        reversescale = True,\n",
    "        marker = dict(\n",
    "            line = dict (\n",
    "                color = 'rgb(180,180,180)',\n",
    "                width = 0.5\n",
    "            ) ),\n",
    "        colorbar = dict(\n",
    "            autotick = False,\n",
    "            tickprefix = '$',\n",
    "            title = 'GDP<br>Billions US$'),\n",
    "      ) ]\n",
    "\n",
    "layout = dict(\n",
    "    title = '2014 Global GDP<br>Source:\\\n",
    "            <a href=\"https://www.cia.gov/library/publications/the-world-factbook/fields/2195.html\">\\\n",
    "            CIA World Factbook</a>',\n",
    "    geo = dict(\n",
    "        showframe = False,\n",
    "        showcoastlines = False,\n",
    "        projection = dict(\n",
    "            type = 'Mercator'\n",
    "        )\n",
    "    )\n",
    ")\n",
    "\n",
    "fig = dict( data=data, layout=layout )\n",
    "py.iplot( fig, validate=False, filename='d3-world-map' )"
   ]
  },
  {
   "cell_type": "code",
   "execution_count": 291,
   "metadata": {},
   "outputs": [
    {
     "data": {
      "text/plain": [
       "0      ABW\n",
       "1      AFG\n",
       "2      AGO\n",
       "3      ALB\n",
       "4      AND\n",
       "5      ARB\n",
       "6      ARE\n",
       "7      ARG\n",
       "8      ARM\n",
       "9      ASM\n",
       "10     ATG\n",
       "11     AUS\n",
       "12     AUT\n",
       "13     AZE\n",
       "14     BDI\n",
       "15     BEL\n",
       "16     BEN\n",
       "17     BFA\n",
       "18     BGD\n",
       "19     BGR\n",
       "20     BHR\n",
       "21     BHS\n",
       "22     BIH\n",
       "23     BLR\n",
       "24     BLZ\n",
       "25     BMU\n",
       "26     BOL\n",
       "27     BRA\n",
       "28     BRB\n",
       "29     BRN\n",
       "      ... \n",
       "234    TLA\n",
       "235    TLS\n",
       "236    TMN\n",
       "237    TON\n",
       "238    TSA\n",
       "239    TSS\n",
       "240    TTO\n",
       "241    TUN\n",
       "242    TUR\n",
       "243    TUV\n",
       "244    TZA\n",
       "245    UGA\n",
       "246    UKR\n",
       "247    UMC\n",
       "248    URY\n",
       "249    USA\n",
       "250    UZB\n",
       "251    VCT\n",
       "252    VEN\n",
       "253    VGB\n",
       "254    VIR\n",
       "255    VNM\n",
       "256    VUT\n",
       "257    WLD\n",
       "258    WSM\n",
       "259    XKX\n",
       "260    YEM\n",
       "261    ZAF\n",
       "262    ZMB\n",
       "263    ZWE\n",
       "Name: Country Code, Length: 264, dtype: object"
      ]
     },
     "execution_count": 291,
     "metadata": {},
     "output_type": "execute_result"
    }
   ],
   "source": [
    "df['Country Code']"
   ]
  },
  {
   "cell_type": "code",
   "execution_count": 285,
   "metadata": {},
   "outputs": [
    {
     "ename": "KeyError",
     "evalue": "'CODE'",
     "output_type": "error",
     "traceback": [
      "\u001b[1;31m---------------------------------------------------------------------------\u001b[0m",
      "\u001b[1;31mKeyError\u001b[0m                                  Traceback (most recent call last)",
      "\u001b[1;32m~\\Anaconda3\\lib\\site-packages\\pandas\\core\\indexes\\base.py\u001b[0m in \u001b[0;36mget_loc\u001b[1;34m(self, key, method, tolerance)\u001b[0m\n\u001b[0;32m   3077\u001b[0m             \u001b[1;32mtry\u001b[0m\u001b[1;33m:\u001b[0m\u001b[1;33m\u001b[0m\u001b[0m\n\u001b[1;32m-> 3078\u001b[1;33m                 \u001b[1;32mreturn\u001b[0m \u001b[0mself\u001b[0m\u001b[1;33m.\u001b[0m\u001b[0m_engine\u001b[0m\u001b[1;33m.\u001b[0m\u001b[0mget_loc\u001b[0m\u001b[1;33m(\u001b[0m\u001b[0mkey\u001b[0m\u001b[1;33m)\u001b[0m\u001b[1;33m\u001b[0m\u001b[0m\n\u001b[0m\u001b[0;32m   3079\u001b[0m             \u001b[1;32mexcept\u001b[0m \u001b[0mKeyError\u001b[0m\u001b[1;33m:\u001b[0m\u001b[1;33m\u001b[0m\u001b[0m\n",
      "\u001b[1;32mpandas\\_libs\\index.pyx\u001b[0m in \u001b[0;36mpandas._libs.index.IndexEngine.get_loc\u001b[1;34m()\u001b[0m\n",
      "\u001b[1;32mpandas\\_libs\\index.pyx\u001b[0m in \u001b[0;36mpandas._libs.index.IndexEngine.get_loc\u001b[1;34m()\u001b[0m\n",
      "\u001b[1;32mpandas\\_libs\\hashtable_class_helper.pxi\u001b[0m in \u001b[0;36mpandas._libs.hashtable.PyObjectHashTable.get_item\u001b[1;34m()\u001b[0m\n",
      "\u001b[1;32mpandas\\_libs\\hashtable_class_helper.pxi\u001b[0m in \u001b[0;36mpandas._libs.hashtable.PyObjectHashTable.get_item\u001b[1;34m()\u001b[0m\n",
      "\u001b[1;31mKeyError\u001b[0m: 'CODE'",
      "\nDuring handling of the above exception, another exception occurred:\n",
      "\u001b[1;31mKeyError\u001b[0m                                  Traceback (most recent call last)",
      "\u001b[1;32m<ipython-input-285-16bd51dde189>\u001b[0m in \u001b[0;36m<module>\u001b[1;34m()\u001b[0m\n\u001b[1;32m----> 1\u001b[1;33m \u001b[0mdf\u001b[0m\u001b[1;33m[\u001b[0m\u001b[1;34m'CODE'\u001b[0m\u001b[1;33m]\u001b[0m\u001b[1;33m\u001b[0m\u001b[0m\n\u001b[0m",
      "\u001b[1;32m~\\Anaconda3\\lib\\site-packages\\pandas\\core\\frame.py\u001b[0m in \u001b[0;36m__getitem__\u001b[1;34m(self, key)\u001b[0m\n\u001b[0;32m   2686\u001b[0m             \u001b[1;32mreturn\u001b[0m \u001b[0mself\u001b[0m\u001b[1;33m.\u001b[0m\u001b[0m_getitem_multilevel\u001b[0m\u001b[1;33m(\u001b[0m\u001b[0mkey\u001b[0m\u001b[1;33m)\u001b[0m\u001b[1;33m\u001b[0m\u001b[0m\n\u001b[0;32m   2687\u001b[0m         \u001b[1;32melse\u001b[0m\u001b[1;33m:\u001b[0m\u001b[1;33m\u001b[0m\u001b[0m\n\u001b[1;32m-> 2688\u001b[1;33m             \u001b[1;32mreturn\u001b[0m \u001b[0mself\u001b[0m\u001b[1;33m.\u001b[0m\u001b[0m_getitem_column\u001b[0m\u001b[1;33m(\u001b[0m\u001b[0mkey\u001b[0m\u001b[1;33m)\u001b[0m\u001b[1;33m\u001b[0m\u001b[0m\n\u001b[0m\u001b[0;32m   2689\u001b[0m \u001b[1;33m\u001b[0m\u001b[0m\n\u001b[0;32m   2690\u001b[0m     \u001b[1;32mdef\u001b[0m \u001b[0m_getitem_column\u001b[0m\u001b[1;33m(\u001b[0m\u001b[0mself\u001b[0m\u001b[1;33m,\u001b[0m \u001b[0mkey\u001b[0m\u001b[1;33m)\u001b[0m\u001b[1;33m:\u001b[0m\u001b[1;33m\u001b[0m\u001b[0m\n",
      "\u001b[1;32m~\\Anaconda3\\lib\\site-packages\\pandas\\core\\frame.py\u001b[0m in \u001b[0;36m_getitem_column\u001b[1;34m(self, key)\u001b[0m\n\u001b[0;32m   2693\u001b[0m         \u001b[1;31m# get column\u001b[0m\u001b[1;33m\u001b[0m\u001b[1;33m\u001b[0m\u001b[0m\n\u001b[0;32m   2694\u001b[0m         \u001b[1;32mif\u001b[0m \u001b[0mself\u001b[0m\u001b[1;33m.\u001b[0m\u001b[0mcolumns\u001b[0m\u001b[1;33m.\u001b[0m\u001b[0mis_unique\u001b[0m\u001b[1;33m:\u001b[0m\u001b[1;33m\u001b[0m\u001b[0m\n\u001b[1;32m-> 2695\u001b[1;33m             \u001b[1;32mreturn\u001b[0m \u001b[0mself\u001b[0m\u001b[1;33m.\u001b[0m\u001b[0m_get_item_cache\u001b[0m\u001b[1;33m(\u001b[0m\u001b[0mkey\u001b[0m\u001b[1;33m)\u001b[0m\u001b[1;33m\u001b[0m\u001b[0m\n\u001b[0m\u001b[0;32m   2696\u001b[0m \u001b[1;33m\u001b[0m\u001b[0m\n\u001b[0;32m   2697\u001b[0m         \u001b[1;31m# duplicate columns & possible reduce dimensionality\u001b[0m\u001b[1;33m\u001b[0m\u001b[1;33m\u001b[0m\u001b[0m\n",
      "\u001b[1;32m~\\Anaconda3\\lib\\site-packages\\pandas\\core\\generic.py\u001b[0m in \u001b[0;36m_get_item_cache\u001b[1;34m(self, item)\u001b[0m\n\u001b[0;32m   2487\u001b[0m         \u001b[0mres\u001b[0m \u001b[1;33m=\u001b[0m \u001b[0mcache\u001b[0m\u001b[1;33m.\u001b[0m\u001b[0mget\u001b[0m\u001b[1;33m(\u001b[0m\u001b[0mitem\u001b[0m\u001b[1;33m)\u001b[0m\u001b[1;33m\u001b[0m\u001b[0m\n\u001b[0;32m   2488\u001b[0m         \u001b[1;32mif\u001b[0m \u001b[0mres\u001b[0m \u001b[1;32mis\u001b[0m \u001b[1;32mNone\u001b[0m\u001b[1;33m:\u001b[0m\u001b[1;33m\u001b[0m\u001b[0m\n\u001b[1;32m-> 2489\u001b[1;33m             \u001b[0mvalues\u001b[0m \u001b[1;33m=\u001b[0m \u001b[0mself\u001b[0m\u001b[1;33m.\u001b[0m\u001b[0m_data\u001b[0m\u001b[1;33m.\u001b[0m\u001b[0mget\u001b[0m\u001b[1;33m(\u001b[0m\u001b[0mitem\u001b[0m\u001b[1;33m)\u001b[0m\u001b[1;33m\u001b[0m\u001b[0m\n\u001b[0m\u001b[0;32m   2490\u001b[0m             \u001b[0mres\u001b[0m \u001b[1;33m=\u001b[0m \u001b[0mself\u001b[0m\u001b[1;33m.\u001b[0m\u001b[0m_box_item_values\u001b[0m\u001b[1;33m(\u001b[0m\u001b[0mitem\u001b[0m\u001b[1;33m,\u001b[0m \u001b[0mvalues\u001b[0m\u001b[1;33m)\u001b[0m\u001b[1;33m\u001b[0m\u001b[0m\n\u001b[0;32m   2491\u001b[0m             \u001b[0mcache\u001b[0m\u001b[1;33m[\u001b[0m\u001b[0mitem\u001b[0m\u001b[1;33m]\u001b[0m \u001b[1;33m=\u001b[0m \u001b[0mres\u001b[0m\u001b[1;33m\u001b[0m\u001b[0m\n",
      "\u001b[1;32m~\\Anaconda3\\lib\\site-packages\\pandas\\core\\internals.py\u001b[0m in \u001b[0;36mget\u001b[1;34m(self, item, fastpath)\u001b[0m\n\u001b[0;32m   4113\u001b[0m \u001b[1;33m\u001b[0m\u001b[0m\n\u001b[0;32m   4114\u001b[0m             \u001b[1;32mif\u001b[0m \u001b[1;32mnot\u001b[0m \u001b[0misna\u001b[0m\u001b[1;33m(\u001b[0m\u001b[0mitem\u001b[0m\u001b[1;33m)\u001b[0m\u001b[1;33m:\u001b[0m\u001b[1;33m\u001b[0m\u001b[0m\n\u001b[1;32m-> 4115\u001b[1;33m                 \u001b[0mloc\u001b[0m \u001b[1;33m=\u001b[0m \u001b[0mself\u001b[0m\u001b[1;33m.\u001b[0m\u001b[0mitems\u001b[0m\u001b[1;33m.\u001b[0m\u001b[0mget_loc\u001b[0m\u001b[1;33m(\u001b[0m\u001b[0mitem\u001b[0m\u001b[1;33m)\u001b[0m\u001b[1;33m\u001b[0m\u001b[0m\n\u001b[0m\u001b[0;32m   4116\u001b[0m             \u001b[1;32melse\u001b[0m\u001b[1;33m:\u001b[0m\u001b[1;33m\u001b[0m\u001b[0m\n\u001b[0;32m   4117\u001b[0m                 \u001b[0mindexer\u001b[0m \u001b[1;33m=\u001b[0m \u001b[0mnp\u001b[0m\u001b[1;33m.\u001b[0m\u001b[0marange\u001b[0m\u001b[1;33m(\u001b[0m\u001b[0mlen\u001b[0m\u001b[1;33m(\u001b[0m\u001b[0mself\u001b[0m\u001b[1;33m.\u001b[0m\u001b[0mitems\u001b[0m\u001b[1;33m)\u001b[0m\u001b[1;33m)\u001b[0m\u001b[1;33m[\u001b[0m\u001b[0misna\u001b[0m\u001b[1;33m(\u001b[0m\u001b[0mself\u001b[0m\u001b[1;33m.\u001b[0m\u001b[0mitems\u001b[0m\u001b[1;33m)\u001b[0m\u001b[1;33m]\u001b[0m\u001b[1;33m\u001b[0m\u001b[0m\n",
      "\u001b[1;32m~\\Anaconda3\\lib\\site-packages\\pandas\\core\\indexes\\base.py\u001b[0m in \u001b[0;36mget_loc\u001b[1;34m(self, key, method, tolerance)\u001b[0m\n\u001b[0;32m   3078\u001b[0m                 \u001b[1;32mreturn\u001b[0m \u001b[0mself\u001b[0m\u001b[1;33m.\u001b[0m\u001b[0m_engine\u001b[0m\u001b[1;33m.\u001b[0m\u001b[0mget_loc\u001b[0m\u001b[1;33m(\u001b[0m\u001b[0mkey\u001b[0m\u001b[1;33m)\u001b[0m\u001b[1;33m\u001b[0m\u001b[0m\n\u001b[0;32m   3079\u001b[0m             \u001b[1;32mexcept\u001b[0m \u001b[0mKeyError\u001b[0m\u001b[1;33m:\u001b[0m\u001b[1;33m\u001b[0m\u001b[0m\n\u001b[1;32m-> 3080\u001b[1;33m                 \u001b[1;32mreturn\u001b[0m \u001b[0mself\u001b[0m\u001b[1;33m.\u001b[0m\u001b[0m_engine\u001b[0m\u001b[1;33m.\u001b[0m\u001b[0mget_loc\u001b[0m\u001b[1;33m(\u001b[0m\u001b[0mself\u001b[0m\u001b[1;33m.\u001b[0m\u001b[0m_maybe_cast_indexer\u001b[0m\u001b[1;33m(\u001b[0m\u001b[0mkey\u001b[0m\u001b[1;33m)\u001b[0m\u001b[1;33m)\u001b[0m\u001b[1;33m\u001b[0m\u001b[0m\n\u001b[0m\u001b[0;32m   3081\u001b[0m \u001b[1;33m\u001b[0m\u001b[0m\n\u001b[0;32m   3082\u001b[0m         \u001b[0mindexer\u001b[0m \u001b[1;33m=\u001b[0m \u001b[0mself\u001b[0m\u001b[1;33m.\u001b[0m\u001b[0mget_indexer\u001b[0m\u001b[1;33m(\u001b[0m\u001b[1;33m[\u001b[0m\u001b[0mkey\u001b[0m\u001b[1;33m]\u001b[0m\u001b[1;33m,\u001b[0m \u001b[0mmethod\u001b[0m\u001b[1;33m=\u001b[0m\u001b[0mmethod\u001b[0m\u001b[1;33m,\u001b[0m \u001b[0mtolerance\u001b[0m\u001b[1;33m=\u001b[0m\u001b[0mtolerance\u001b[0m\u001b[1;33m)\u001b[0m\u001b[1;33m\u001b[0m\u001b[0m\n",
      "\u001b[1;32mpandas\\_libs\\index.pyx\u001b[0m in \u001b[0;36mpandas._libs.index.IndexEngine.get_loc\u001b[1;34m()\u001b[0m\n",
      "\u001b[1;32mpandas\\_libs\\index.pyx\u001b[0m in \u001b[0;36mpandas._libs.index.IndexEngine.get_loc\u001b[1;34m()\u001b[0m\n",
      "\u001b[1;32mpandas\\_libs\\hashtable_class_helper.pxi\u001b[0m in \u001b[0;36mpandas._libs.hashtable.PyObjectHashTable.get_item\u001b[1;34m()\u001b[0m\n",
      "\u001b[1;32mpandas\\_libs\\hashtable_class_helper.pxi\u001b[0m in \u001b[0;36mpandas._libs.hashtable.PyObjectHashTable.get_item\u001b[1;34m()\u001b[0m\n",
      "\u001b[1;31mKeyError\u001b[0m: 'CODE'"
     ]
    }
   ],
   "source": []
  },
  {
   "cell_type": "code",
   "execution_count": null,
   "metadata": {},
   "outputs": [],
   "source": []
  }
 ],
 "metadata": {
  "kernelspec": {
   "display_name": "Python 3",
   "language": "python",
   "name": "python3"
  },
  "language_info": {
   "codemirror_mode": {
    "name": "ipython",
    "version": 3
   },
   "file_extension": ".py",
   "mimetype": "text/x-python",
   "name": "python",
   "nbconvert_exporter": "python",
   "pygments_lexer": "ipython3",
   "version": "3.5.6"
  }
 },
 "nbformat": 4,
 "nbformat_minor": 2
}
