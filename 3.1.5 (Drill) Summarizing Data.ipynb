{
 "cells": [
  {
   "cell_type": "code",
   "execution_count": 26,
   "metadata": {},
   "outputs": [],
   "source": [
    "import pandas as pd\n",
    "import matplotlib.pyplot as plt\n",
    "import numpy as np\n",
    "import statistics"
   ]
  },
  {
   "cell_type": "code",
   "execution_count": 135,
   "metadata": {},
   "outputs": [
    {
     "name": "stdout",
     "output_type": "stream",
     "text": [
      "        Age\n",
      "Greg     14\n",
      "Marcia   12\n",
      "Peter    11\n",
      "Jan      10\n",
      "Bobby     8\n",
      "Cindy     6\n",
      "Oliver    8\n"
     ]
    }
   ],
   "source": [
    "bradybunch=pd.DataFrame(np.array([14,12,11,10,8,6,8]),index=[\"Greg\", \"Marcia\", \"Peter\", \"Jan\", \"Bobby\", \"Cindy\", \"Oliver\"],columns=[\"Age\"])\n",
    "print(bradybunch)"
   ]
  },
  {
   "cell_type": "markdown",
   "metadata": {},
   "source": [
    "## Question 1"
   ]
  },
  {
   "cell_type": "code",
   "execution_count": 136,
   "metadata": {},
   "outputs": [
    {
     "name": "stdout",
     "output_type": "stream",
     "text": [
      "9.857142857142858 10 8\n",
      "2.6457513110645907 2.449489742783178 2.734262327610589 2.531435020952764\n",
      "7\n"
     ]
    },
    {
     "data": {
      "text/plain": [
       "1.0334540197243192"
      ]
     },
     "execution_count": 136,
     "metadata": {},
     "output_type": "execute_result"
    }
   ],
   "source": [
    "bradyarray=np.array([14,12,11,10,8,6,8])\n",
    "\n",
    "## Mean, Standard Deviation, Mode\n",
    "print(bradyarray.mean(),statistics.median(bradyarray), statistics.mode(bradyarray))\n",
    "\n",
    "## Mean of Dataframe \n",
    "bradybunch.loc[:,\"Age\"].mean()\n",
    "\n",
    "\n",
    "## Standard Deviation (Why are they all different?)\n",
    "print(statistics.stdev(bradyarray),statistics.pstdev(bradyarray),np.std(bradyarray,ddof=1),np.std(bradyarray))\n",
    "\n",
    "## Variance\n",
    "print(statistics.variance(bradyarray),)\n",
    "\n",
    "## Standard Error\n",
    "np.std(bradyarray,ddof=1) / np.sqrt(len(bradyarray))\n"
   ]
  },
  {
   "cell_type": "markdown",
   "metadata": {},
   "source": [
    "## Question 2"
   ]
  },
  {
   "cell_type": "markdown",
   "metadata": {},
   "source": [
    "If I had to choose one central tendancy and estimate of variance it would be:\n",
    "\n",
    "mean and variance because from these two parameters we can estimate many distributions"
   ]
  },
  {
   "cell_type": "markdown",
   "metadata": {},
   "source": [
    "## Question 3"
   ]
  },
  {
   "cell_type": "code",
   "execution_count": 137,
   "metadata": {},
   "outputs": [],
   "source": [
    "bradybunch[\"Cindy\"]=7"
   ]
  },
  {
   "cell_type": "code",
   "execution_count": 144,
   "metadata": {},
   "outputs": [
    {
     "name": "stdout",
     "output_type": "stream",
     "text": [
      "9.857142857142858\n",
      "10.0\n",
      "8\n"
     ]
    }
   ],
   "source": [
    "print(bradybunch[\"Age\"].mean())\n",
    "print(bradybunch[\"Age\"].median())\n",
    "print(statistics.mode(bradybunch[\"Age\"]))"
   ]
  },
  {
   "cell_type": "markdown",
   "metadata": {},
   "source": [
    "## Question 4"
   ]
  },
  {
   "cell_type": "code",
   "execution_count": 146,
   "metadata": {},
   "outputs": [],
   "source": [
    "bradybunch[\"New\"]=bradybunch[\"Age\"]\n",
    "bradybunch.loc[\"Oliver\",\"New\"]"
   ]
  },
  {
   "cell_type": "code",
   "execution_count": 156,
   "metadata": {},
   "outputs": [
    {
     "name": "stdout",
     "output_type": "stream",
     "text": [
      "8.857142857142858\n",
      "10.0\n",
      "No Mode\n"
     ]
    }
   ],
   "source": [
    "print(bradybunch[\"New\"].mean())\n",
    "print(bradybunch[\"New\"].median())\n",
    "try:\n",
    "    print(statistics.mode(bradybunch[\"New\"]))\n",
    "except: print(\"No Mode\")"
   ]
  },
  {
   "cell_type": "markdown",
   "metadata": {},
   "source": [
    "## Question 5"
   ]
  },
  {
   "cell_type": "code",
   "execution_count": 158,
   "metadata": {},
   "outputs": [
    {
     "data": {
      "text/plain": [
       "0.16250000000000003"
      ]
     },
     "execution_count": 158,
     "metadata": {},
     "output_type": "execute_result"
    }
   ],
   "source": [
    "round(np.mean([.2,.23,.17,.05])"
   ]
  }
 ],
 "metadata": {
  "kernelspec": {
   "display_name": "Python 3",
   "language": "python",
   "name": "python3"
  },
  "language_info": {
   "codemirror_mode": {
    "name": "ipython",
    "version": 3
   },
   "file_extension": ".py",
   "mimetype": "text/x-python",
   "name": "python",
   "nbconvert_exporter": "python",
   "pygments_lexer": "ipython3",
   "version": "3.6.5"
  }
 },
 "nbformat": 4,
 "nbformat_minor": 2
}
