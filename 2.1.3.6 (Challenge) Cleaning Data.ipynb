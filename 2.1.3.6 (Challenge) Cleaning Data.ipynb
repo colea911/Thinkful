{
 "cells": [
  {
   "cell_type": "code",
   "execution_count": 27,
   "metadata": {},
   "outputs": [],
   "source": [
    "import numpy as np\n",
    "import pandas as pd\n",
    "import chardet\n",
    "import os\n",
    "import csv\n",
    "import matplotlib.pyplot as plt"
   ]
  },
  {
   "cell_type": "code",
   "execution_count": null,
   "metadata": {},
   "outputs": [],
   "source": []
  },
  {
   "cell_type": "code",
   "execution_count": 28,
   "metadata": {},
   "outputs": [
    {
     "ename": "FileNotFoundError",
     "evalue": "[WinError 2] The system cannot find the file specified: 'WELLCOME_APCspend2013_forThinkful.csv' -> 'APCspend2013.csv'",
     "output_type": "error",
     "traceback": [
      "\u001b[1;31m---------------------------------------------------------------------------\u001b[0m",
      "\u001b[1;31mFileNotFoundError\u001b[0m                         Traceback (most recent call last)",
      "\u001b[1;32m<ipython-input-28-1e79d831c8be>\u001b[0m in \u001b[0;36m<module>\u001b[1;34m()\u001b[0m\n\u001b[0;32m      1\u001b[0m \u001b[0mf\u001b[0m\u001b[1;33m=\u001b[0m\u001b[1;34m'APCspend2013.csv'\u001b[0m\u001b[1;33m\u001b[0m\u001b[0m\n\u001b[1;32m----> 2\u001b[1;33m \u001b[0mos\u001b[0m\u001b[1;33m.\u001b[0m\u001b[0mrename\u001b[0m\u001b[1;33m(\u001b[0m\u001b[1;34m'WELLCOME_APCspend2013_forThinkful.csv'\u001b[0m\u001b[1;33m,\u001b[0m \u001b[0mf\u001b[0m\u001b[1;33m)\u001b[0m\u001b[1;33m\u001b[0m\u001b[0m\n\u001b[0m",
      "\u001b[1;31mFileNotFoundError\u001b[0m: [WinError 2] The system cannot find the file specified: 'WELLCOME_APCspend2013_forThinkful.csv' -> 'APCspend2013.csv'"
     ]
    }
   ],
   "source": [
    "f='APCspend2013.csv'\n",
    "os.rename('WELLCOME_APCspend2013_forThinkful.csv', f)"
   ]
  },
  {
   "cell_type": "code",
   "execution_count": 85,
   "metadata": {},
   "outputs": [
    {
     "ename": "UnicodeEncodeError",
     "evalue": "'charmap' codec can't encode character '\\u2212' in position 114: character maps to <undefined>",
     "output_type": "error",
     "traceback": [
      "\u001b[1;31m---------------------------------------------------------------------------\u001b[0m",
      "\u001b[1;31mUnicodeEncodeError\u001b[0m                        Traceback (most recent call last)",
      "\u001b[1;32m<ipython-input-85-22c6a1107a08>\u001b[0m in \u001b[0;36m<module>\u001b[1;34m()\u001b[0m\n\u001b[0;32m     12\u001b[0m          \u001b[1;32mif\u001b[0m \u001b[0mindex\u001b[0m \u001b[1;33m==\u001b[0m \u001b[1;36m0\u001b[0m\u001b[1;33m:\u001b[0m\u001b[1;33m\u001b[0m\u001b[0m\n\u001b[0;32m     13\u001b[0m              \u001b[1;32mcontinue\u001b[0m\u001b[1;33m\u001b[0m\u001b[0m\n\u001b[1;32m---> 14\u001b[1;33m          \u001b[0moutput\u001b[0m\u001b[1;33m.\u001b[0m\u001b[0mwriterow\u001b[0m\u001b[1;33m(\u001b[0m\u001b[0mrow\u001b[0m\u001b[1;33m)\u001b[0m\u001b[1;33m\u001b[0m\u001b[0m\n\u001b[0m",
      "\u001b[1;32m~\\Anaconda3\\lib\\encodings\\cp1252.py\u001b[0m in \u001b[0;36mencode\u001b[1;34m(self, input, final)\u001b[0m\n\u001b[0;32m     17\u001b[0m \u001b[1;32mclass\u001b[0m \u001b[0mIncrementalEncoder\u001b[0m\u001b[1;33m(\u001b[0m\u001b[0mcodecs\u001b[0m\u001b[1;33m.\u001b[0m\u001b[0mIncrementalEncoder\u001b[0m\u001b[1;33m)\u001b[0m\u001b[1;33m:\u001b[0m\u001b[1;33m\u001b[0m\u001b[0m\n\u001b[0;32m     18\u001b[0m     \u001b[1;32mdef\u001b[0m \u001b[0mencode\u001b[0m\u001b[1;33m(\u001b[0m\u001b[0mself\u001b[0m\u001b[1;33m,\u001b[0m \u001b[0minput\u001b[0m\u001b[1;33m,\u001b[0m \u001b[0mfinal\u001b[0m\u001b[1;33m=\u001b[0m\u001b[1;32mFalse\u001b[0m\u001b[1;33m)\u001b[0m\u001b[1;33m:\u001b[0m\u001b[1;33m\u001b[0m\u001b[0m\n\u001b[1;32m---> 19\u001b[1;33m         \u001b[1;32mreturn\u001b[0m \u001b[0mcodecs\u001b[0m\u001b[1;33m.\u001b[0m\u001b[0mcharmap_encode\u001b[0m\u001b[1;33m(\u001b[0m\u001b[0minput\u001b[0m\u001b[1;33m,\u001b[0m\u001b[0mself\u001b[0m\u001b[1;33m.\u001b[0m\u001b[0merrors\u001b[0m\u001b[1;33m,\u001b[0m\u001b[0mencoding_table\u001b[0m\u001b[1;33m)\u001b[0m\u001b[1;33m[\u001b[0m\u001b[1;36m0\u001b[0m\u001b[1;33m]\u001b[0m\u001b[1;33m\u001b[0m\u001b[0m\n\u001b[0m\u001b[0;32m     20\u001b[0m \u001b[1;33m\u001b[0m\u001b[0m\n\u001b[0;32m     21\u001b[0m \u001b[1;32mclass\u001b[0m \u001b[0mIncrementalDecoder\u001b[0m\u001b[1;33m(\u001b[0m\u001b[0mcodecs\u001b[0m\u001b[1;33m.\u001b[0m\u001b[0mIncrementalDecoder\u001b[0m\u001b[1;33m)\u001b[0m\u001b[1;33m:\u001b[0m\u001b[1;33m\u001b[0m\u001b[0m\n",
      "\u001b[1;31mUnicodeEncodeError\u001b[0m: 'charmap' codec can't encode character '\\u2212' in position 114: character maps to <undefined>"
     ]
    }
   ],
   "source": [
    "# Random Function Online to Fix UTF Decoding Problem\n",
    "\n",
    "path =  f\n",
    "newpath = path+'edited'\n",
    "\n",
    "with open(path, 'r', encoding='utf-8', errors='ignore') as infile, open(path + 'edited', 'w') as outfile:\n",
    "     inputs = csv.reader(infile)\n",
    "     output = csv.writer(outfile)\n",
    "\n",
    "     for index, row in enumerate(inputs):\n",
    "         # Create file with no header\n",
    "         if index == 0:\n",
    "             continue\n",
    "         output.writerow(row)"
   ]
  },
  {
   "cell_type": "code",
   "execution_count": 86,
   "metadata": {},
   "outputs": [],
   "source": [
    "# Random Function #2 Online to fix UTF Decoding Problem\n",
    "\n",
    "def find_encoding(fname):\n",
    "    r_file = open(fname, 'rb').read()\n",
    "    result = chardet.detect(r_file)\n",
    "    charenc = result['encoding']\n",
    "    return charenc\n",
    " \n",
    " \n",
    "my_encoding = find_encoding(newpath)\n",
    "df = pd.read_csv(newpath, encoding=my_encoding)"
   ]
  },
  {
   "cell_type": "code",
   "execution_count": 87,
   "metadata": {},
   "outputs": [],
   "source": [
    "# Rename Columns\n",
    "\n",
    "df.columns = ['PMID', 'Publisher','Journal','Article','Cost']"
   ]
  },
  {
   "cell_type": "code",
   "execution_count": 88,
   "metadata": {},
   "outputs": [],
   "source": [
    "# Turn Cost into Numeric with Apply Function\n",
    "\n",
    "df['Cost'] = df['Cost'].apply(pd.to_numeric, errors='coerce')"
   ]
  },
  {
   "cell_type": "code",
   "execution_count": 89,
   "metadata": {},
   "outputs": [],
   "source": [
    "# Create New Notes Column\n",
    "\n",
    "df[\"CleanNotes\"]=None"
   ]
  },
  {
   "cell_type": "code",
   "execution_count": 121,
   "metadata": {},
   "outputs": [
    {
     "data": {
      "text/plain": [
       "<matplotlib.axes._subplots.AxesSubplot at 0x24c4ef27cc0>"
      ]
     },
     "execution_count": 121,
     "metadata": {},
     "output_type": "execute_result"
    },
    {
     "data": {
      "image/png": "[encoded data removed]",
      "text/plain": [
       "<Figure size 864x360 with 2 Axes>"
      ]
     },
     "metadata": {
      "needs_background": "light"
     },
     "output_type": "display_data"
    }
   ],
   "source": [
    "# Look at Distribution for issues - Histogram and Boxplot\n",
    "\n",
    "fig, axes = plt.subplots(nrows=1, ncols=2, figsize=(12,5))\n",
    "df[\"Cost\"].plot(kind='hist',bins=30,ax=axes[0],density=True)\n",
    "df[\"Cost\"].plot(kind='box',ax=axes[1])"
   ]
  },
  {
   "cell_type": "code",
   "execution_count": 91,
   "metadata": {},
   "outputs": [],
   "source": [
    "# Make Notes of Changes to Rows with Cost of 99999, then change these to None\n",
    "\n",
    "df.loc[df.Cost==999999, 'CleanNotes'] = \"Cost erroneously entered as 999999.  Reset to None\"\n",
    "df.loc[df.Cost==999999, 'Cost'] = None"
   ]
  },
  {
   "cell_type": "code",
   "execution_count": 92,
   "metadata": {},
   "outputs": [
    {
     "data": {
      "text/plain": [
       "0"
      ]
     },
     "execution_count": 92,
     "metadata": {},
     "output_type": "execute_result"
    }
   ],
   "source": [
    "# Check for Article Duplicates\n",
    "\n",
    "sum(df.duplicated(\"Article\"))"
   ]
  },
  {
   "cell_type": "code",
   "execution_count": 93,
   "metadata": {},
   "outputs": [],
   "source": [
    "df.Journal=df.Journal.astype(str)"
   ]
  },
  {
   "cell_type": "code",
   "execution_count": 94,
   "metadata": {},
   "outputs": [],
   "source": [
    "df.Journal=df.Journal.str.title()"
   ]
  },
  {
   "cell_type": "code",
   "execution_count": 95,
   "metadata": {},
   "outputs": [],
   "source": [
    "df.Journal=df.Journal.str.strip()"
   ]
  },
  {
   "cell_type": "code",
   "execution_count": 105,
   "metadata": {},
   "outputs": [
    {
     "data": {
      "text/plain": [
       "557"
      ]
     },
     "execution_count": 105,
     "metadata": {},
     "output_type": "execute_result"
    }
   ],
   "source": [
    "len(df.Journal.unique())"
   ]
  },
  {
   "cell_type": "code",
   "execution_count": 104,
   "metadata": {},
   "outputs": [
    {
     "name": "stdout",
     "output_type": "stream",
     "text": [
      "Similarity Score: 0.96 (American Journal Of Psychiatry) or (Americal Journal Of Psychiatry)42 43\n",
      "Similarity Score: 0.99 (Antimicrobial Agents And Chemotherapy) or (Antimicrobial Agfents And Chemotherapy)83 84\n",
      "Similarity Score: 0.99 (Antimicrobial Agents And Chemotherapy) or (Antimicrobial Agents And Chemotherapy)84 166\n",
      "Similarity Score: 0.99 (Journal Of Clinical Microbiology) or (Jounral Of Clinical Microbiology)97 110\n",
      "Similarity Score: 0.92 (Biological Chemistry) or (Biologicial Chemistry)114 115\n"
     ]
    },
    {
     "name": "stderr",
     "output_type": "stream",
     "text": [
      "C:\\Users\\colea\\Anaconda3\\lib\\site-packages\\ipykernel_launcher.py:15: SettingWithCopyWarning: \n",
      "A value is trying to be set on a copy of a slice from a DataFrame\n",
      "\n",
      "See the caveats in the documentation: http://pandas.pydata.org/pandas-docs/stable/indexing.html#indexing-view-versus-copy\n",
      "  from ipykernel import kernelapp as app\n"
     ]
    },
    {
     "name": "stdout",
     "output_type": "stream",
     "text": [
      "Similarity Score: 0.9 (Journal Of Biological Chemistry) or (Journal Biological Chemistry)151 161\n",
      "Similarity Score: 0.9 (Journal Of Biological Chemistry) or (Journal Of Biological Chemistry)161 162\n",
      "Similarity Score: 0.91 (Bmc  Public Health) or (Bmc Public Health)176 193\n",
      "Similarity Score: 0.91 (Bmc  Public Health) or (Bmc Public Health)176 194\n",
      "Similarity Score: 0.91 (Bmc  Public Health) or (Bmc Public Health)176 195\n",
      "Similarity Score: 0.91 (Bmc  Public Health) or (Bmc  Public Health)193 194\n",
      "Similarity Score: 0.91 (Bmc  Public Health) or (Bmc  Public Health)193 195\n",
      "Similarity Score: 0.91 (Bmc  Public Health) or (Bmc  Public Health)194 195\n",
      "Similarity Score: 0.98 (International Journal Of Behavioral Nutrition And Physical Activity) or (International Journal Of Behavioural Nutrition And Physical Activity)206 207\n",
      "Similarity Score: 0.93 (Molecular Brain) or (Molecular Pain)216 217\n",
      "Similarity Score: 0.97 (Bmc Genomics) or (Bmc Genomics.)225 226\n",
      "Similarity Score: 0.98 (British Journal Of Ophthalmology) or (British Journal Of Opthalmology)285 286\n",
      "Similarity Score: 0.92 (Journal Of Medical Ethics) or (Journal Of Medical Genetics)293 294\n",
      "Similarity Score: 0.92 (Journal Of Medical Ethics) or (Journal Of Medical Genetics)293 295\n",
      "Similarity Score: 0.92 (Journal Of Medical Ethics) or (Journal Of Medical Ethics)294 295\n",
      "Similarity Score: 0.97 (Journal Of Neurology, Neurosurgery & Psychiatry) or (Journal Of Neurology, Neurosurgery And Psychiatry)297 298\n",
      "Similarity Score: 0.97 (Journal Of Neurology, Neurosurgery & Psychiatry) or (Journal Of Neurology, Neurosurgery And Psychiatry)297 323\n",
      "Similarity Score: 0.97 (Journal Of Neurology, Neurosurgery & Psychiatry) or (Journal Of Neurology, Neurosurgery And Psychiatry)297 324\n",
      "Similarity Score: 0.97 (Journal Of Neurology, Neurosurgery & Psychiatry) or (Journal Of Neurology, Neurosurgery And Psychiatry)297 335\n",
      "Similarity Score: 0.97 (Journal Of Neurology, Neurosurgery & Psychiatry) or (Journal Of Neurology, Neurosurgery & Psychiatry)298 323\n",
      "Similarity Score: 0.97 (Journal Of Neurology, Neurosurgery & Psychiatry) or (Journal Of Neurology, Neurosurgery & Psychiatry)298 324\n",
      "Similarity Score: 0.97 (Journal Of Neurology, Neurosurgery & Psychiatry) or (Journal Of Neurology, Neurosurgery & Psychiatry)298 335\n",
      "Similarity Score: 0.94 (Journal Of Epidemiology & Community Health) or (Journal Of Epidemiology And Community Health)311 322\n",
      "Similarity Score: 0.97 (Journal Of Neurology, Neurosurgery & Psychiatry) or (Journal Of Neurology, Neurosurgery & Psychiatry)323 324\n",
      "Similarity Score: 0.97 (Journal Of Neurology, Neurosurgery & Psychiatry) or (Journal Of Neurology, Neurosurgery & Psychiatry)323 335\n",
      "Similarity Score: 0.97 (Journal Of Neurology, Neurosurgery & Psychiatry) or (Journal Of Neurology, Neurosurgery & Psychiatry)324 335\n",
      "Similarity Score: 0.93 (British Journal For The History Of Science) or (British Journal Of The History Of Science)353 354\n",
      "Similarity Score: 0.98 (Psychological Medicine) or (Pyschological Medicine)367 369\n",
      "Similarity Score: 0.99 (Behavior Research And Therapy) or (Behaviour Research And Therapy)456 457\n",
      "Similarity Score: 0.99 (Behavior Research And Therapy) or (Behaviour Research And Therapy)456 458\n",
      "Similarity Score: 0.99 (Behavior Research And Therapy) or (Behavior Research And Therapy)457 458\n",
      "Similarity Score: 0.94 (Biochimica Et Bioohysica Acta - Molecular Basis Of Disease) or (Biochimica Et Biophysica Acta - Molecular Basis Of Disease)464 465\n",
      "Similarity Score: 0.99 (Current Opinion In Neurobiology) or (Current Opinions In Neurobiology)526 528\n",
      "Similarity Score: 0.92 (Development Cell) or (Developmental Cell)529 531\n",
      "Similarity Score: 0.92 (Development Cell) or (Developmental Cell)529 532\n",
      "Similarity Score: 0.92 (Development Cell) or (Developmental Cell)529 533\n",
      "Similarity Score: 0.92 (Development Cell) or (Developmental Cell)529 534\n",
      "Similarity Score: 0.92 (Development Cell) or (Developmental Cell)529 535\n",
      "Similarity Score: 0.92 (Development Cell) or (Developmental Cell)529 536\n",
      "Similarity Score: 0.92 (Development Cell) or (Developmental Cell)529 537\n",
      "Similarity Score: 0.92 (Development Cell) or (Developmental Cell)529 538\n",
      "Similarity Score: 0.92 (Development Cell) or (Developmental Cell)529 539\n",
      "Similarity Score: 0.92 (Development Cell) or (Developmental Cell)529 540\n",
      "Similarity Score: 0.92 (Development Cell) or (Developmental Cell)529 541\n",
      "Similarity Score: 0.92 (Development Cell) or (Development Cell)531 532\n",
      "Similarity Score: 0.92 (Development Cell) or (Development Cell)531 533\n",
      "Similarity Score: 0.92 (Development Cell) or (Development Cell)531 534\n",
      "Similarity Score: 0.92 (Development Cell) or (Development Cell)531 535\n",
      "Similarity Score: 0.92 (Development Cell) or (Development Cell)531 536\n",
      "Similarity Score: 0.92 (Development Cell) or (Development Cell)531 537\n",
      "Similarity Score: 0.92 (Development Cell) or (Development Cell)531 538\n",
      "Similarity Score: 0.92 (Development Cell) or (Development Cell)531 539\n",
      "Similarity Score: 0.92 (Development Cell) or (Development Cell)531 540\n",
      "Similarity Score: 0.92 (Development Cell) or (Development Cell)531 541\n",
      "Similarity Score: 0.92 (Development Cell) or (Development Cell)532 533\n",
      "Similarity Score: 0.92 (Development Cell) or (Development Cell)532 534\n",
      "Similarity Score: 0.92 (Development Cell) or (Development Cell)532 535\n",
      "Similarity Score: 0.92 (Development Cell) or (Development Cell)532 536\n",
      "Similarity Score: 0.92 (Development Cell) or (Development Cell)532 537\n",
      "Similarity Score: 0.92 (Development Cell) or (Development Cell)532 538\n",
      "Similarity Score: 0.92 (Development Cell) or (Development Cell)532 539\n",
      "Similarity Score: 0.92 (Development Cell) or (Development Cell)532 540\n",
      "Similarity Score: 0.92 (Development Cell) or (Development Cell)532 541\n",
      "Similarity Score: 0.92 (Development Cell) or (Development Cell)533 534\n",
      "Similarity Score: 0.92 (Development Cell) or (Development Cell)533 535\n",
      "Similarity Score: 0.92 (Development Cell) or (Development Cell)533 536\n",
      "Similarity Score: 0.92 (Development Cell) or (Development Cell)533 537\n",
      "Similarity Score: 0.92 (Development Cell) or (Development Cell)533 538\n",
      "Similarity Score: 0.92 (Development Cell) or (Development Cell)533 539\n",
      "Similarity Score: 0.92 (Development Cell) or (Development Cell)533 540\n",
      "Similarity Score: 0.92 (Development Cell) or (Development Cell)533 541\n",
      "Similarity Score: 0.92 (Development Cell) or (Development Cell)534 535\n",
      "Similarity Score: 0.92 (Development Cell) or (Development Cell)534 536\n",
      "Similarity Score: 0.92 (Development Cell) or (Development Cell)534 537\n",
      "Similarity Score: 0.92 (Development Cell) or (Development Cell)534 538\n",
      "Similarity Score: 0.92 (Development Cell) or (Development Cell)534 539\n",
      "Similarity Score: 0.92 (Development Cell) or (Development Cell)534 540\n",
      "Similarity Score: 0.92 (Development Cell) or (Development Cell)534 541\n",
      "Similarity Score: 0.92 (Development Cell) or (Development Cell)535 536\n",
      "Similarity Score: 0.92 (Development Cell) or (Development Cell)535 537\n",
      "Similarity Score: 0.92 (Development Cell) or (Development Cell)535 538\n",
      "Similarity Score: 0.92 (Development Cell) or (Development Cell)535 539\n",
      "Similarity Score: 0.92 (Development Cell) or (Development Cell)535 540\n",
      "Similarity Score: 0.92 (Development Cell) or (Development Cell)535 541\n",
      "Similarity Score: 0.92 (Development Cell) or (Development Cell)536 537\n",
      "Similarity Score: 0.92 (Development Cell) or (Development Cell)536 538\n",
      "Similarity Score: 0.92 (Development Cell) or (Development Cell)536 539\n",
      "Similarity Score: 0.92 (Development Cell) or (Development Cell)536 540\n",
      "Similarity Score: 0.92 (Development Cell) or (Development Cell)536 541\n",
      "Similarity Score: 0.92 (Development Cell) or (Development Cell)537 538\n",
      "Similarity Score: 0.92 (Development Cell) or (Development Cell)537 539\n",
      "Similarity Score: 0.92 (Development Cell) or (Development Cell)537 540\n",
      "Similarity Score: 0.92 (Development Cell) or (Development Cell)537 541\n",
      "Similarity Score: 0.92 (Development Cell) or (Development Cell)538 539\n",
      "Similarity Score: 0.92 (Development Cell) or (Development Cell)538 540\n",
      "Similarity Score: 0.92 (Development Cell) or (Development Cell)538 541\n",
      "Similarity Score: 0.92 (Development Cell) or (Development Cell)539 540\n",
      "Similarity Score: 0.92 (Development Cell) or (Development Cell)539 541\n",
      "Similarity Score: 0.92 (Development Cell) or (Development Cell)540 541\n",
      "Similarity Score: 0.93 (Experimental Cell Research) or (Experimental Eye Research)559 560\n",
      "Similarity Score: 0.9 (Fungal Biology) or (Fungal Ecology)575 576\n"
     ]
    },
    {
     "name": "stdout",
     "output_type": "stream",
     "text": [
      "Similarity Score: 0.91 (Health & Place) or (Health And Place)582 583\n",
      "Similarity Score: 0.94 (International Journal Of Cardiology) or (International Journal Of Parasitology)596 597\n",
      "Similarity Score: 0.9 (Journal Of Allergy & Clinical Immunology) or (Journal Of Allergy And Clinical Immunology)605 606\n",
      "Similarity Score: 0.9 (Journal Of Allergy & Clinical Immunology) or (Journal Of Allergy And Clinical Immunology)605 607\n",
      "Similarity Score: 0.9 (Journal Of Allergy & Clinical Immunology) or (Journal Of Allergy And Clinical Immunology)605 608\n",
      "Similarity Score: 0.9 (Journal Of Allergy & Clinical Immunology) or (Journal Of Allergy & Clinical Immunology)606 607\n",
      "Similarity Score: 0.9 (Journal Of Allergy & Clinical Immunology) or (Journal Of Allergy & Clinical Immunology)606 608\n",
      "Similarity Score: 0.9 (Journal Of Allergy & Clinical Immunology) or (Journal Of Allergy & Clinical Immunology)607 608\n",
      "Similarity Score: 0.99 (Journal Of Behavior Therapy And Experimental Psychiatry) or (Journal Of Behaviour Therapy And Experimental Psychiatry)612 613\n",
      "Similarity Score: 0.91 (Journal Of Clinical Epidemiology) or (Journal Of Clinical Virology)614 615\n",
      "Similarity Score: 0.93 (Neuroimage) or (Neurolmage)714 720\n",
      "Similarity Score: 0.93 (Neuroimage) or (Neurolmage)714 721\n",
      "Similarity Score: 0.93 (Neuroimage) or (Neuroimage)720 721\n",
      "Similarity Score: 0.91 (The Americal Journal Of Human Genetics) or (The American Journal Of Human Genetics)789 790\n",
      "Similarity Score: 0.91 (The Americal Journal Of Human Genetics) or (The American Journal Of Human Genetics)789 791\n",
      "Similarity Score: 0.91 (The Americal Journal Of Human Genetics) or (The American Journal Of Human Genetics)789 792\n",
      "Similarity Score: 0.91 (The Americal Journal Of Human Genetics) or (The Americal Journal Of Human Genetics)790 791\n",
      "Similarity Score: 0.91 (The Americal Journal Of Human Genetics) or (The Americal Journal Of Human Genetics)790 792\n",
      "Similarity Score: 0.91 (The Americal Journal Of Human Genetics) or (The Americal Journal Of Human Genetics)791 792\n",
      "Similarity Score: 0.99 (Trends In Neuroscience) or (Trends In Neurosciences)808 809\n",
      "Similarity Score: 0.99 (Trends In Neuroscience) or (Trends In Neurosciences)808 810\n",
      "Similarity Score: 0.99 (Trends In Neuroscience) or (Trends In Neuroscience)809 810\n",
      "Similarity Score: 0.95 (Acta Crystallographica Section D: Biological Crystallography) or (Acta Crystallographica Section D,  Biological Crystallography)919 926\n",
      "Similarity Score: 0.97 (Epigenetics) or (Epigentics)976 977\n",
      "Similarity Score: 0.97 (Epigenetics) or (Epigentics)976 978\n",
      "Similarity Score: 0.97 (Epigenetics) or (Epigenetics)977 978\n",
      "Similarity Score: 0.98 (Journal Of Visualized Experiements) or (Journal Of Visualized Experiments)996 997\n",
      "Similarity Score: 0.96 (Journal Of Visualized Experiements) or (Journal Of Visulaized Expermiments)996 998\n",
      "Similarity Score: 0.98 (Journal Of Visualized Experiements) or (Journal Of Visualized Experiments)996 999\n",
      "Similarity Score: 0.98 (Journal Of Visualized Experiements) or (Journal Of Visualized Experiments)996 1000\n",
      "Similarity Score: 0.98 (Journal Of Visualized Experiements) or (Journal Of Visualized Experiements)997 998\n",
      "Similarity Score: 0.98 (Journal Of Visualized Experiements) or (Journal Of Visualized Experiements)997 999\n",
      "Similarity Score: 0.98 (Journal Of Visualized Experiements) or (Journal Of Visualized Experiements)997 1000\n",
      "Similarity Score: 0.96 (Journal Of Visualized Experiements) or (Journal Of Visualized Experiements)998 999\n",
      "Similarity Score: 0.96 (Journal Of Visualized Experiements) or (Journal Of Visualized Experiements)998 1000\n",
      "Similarity Score: 0.98 (Journal Of Visualized Experiements) or (Journal Of Visualized Experiements)999 1000\n",
      "Similarity Score: 0.94 (Cell Death & Disease) or (Cell Death And Disease)1030 1032\n",
      "Similarity Score: 0.93 (Clinical Infectious Diseases) or (Clinical Infectious Diseases Online)1128 1129\n",
      "Similarity Score: 0.93 (Clinical Infectious Diseases) or (Clinical Infectious Diseases)1129 1166\n",
      "Similarity Score: 0.91 (Clinical Infectious Diseases) or (Clinicla Infectious Disease)1129 1167\n",
      "Similarity Score: 0.93 (Clinical Infectious Diseases) or (Clinical Infectious Diseases)1129 1211\n",
      "Similarity Score: 0.93 (Clinical Infectious Diseases) or (Clinical Infectious Diseases)1129 1264\n",
      "Similarity Score: 0.99 (International Joural Of Epidemiology) or (International Journal Of Epidemiology)1139 1140\n",
      "Similarity Score: 0.99 (International Joural Of Epidemiology) or (International Journal Of Epidemiology)1139 1141\n",
      "Similarity Score: 0.95 (International Joural Of Epidemiology) or (Inyernational Journal Of Epidemiology)1139 1172\n",
      "Similarity Score: 0.99 (International Joural Of Epidemiology) or (International Journal Of Epidemiology)1139 1227\n",
      "Similarity Score: 0.99 (International Joural Of Epidemiology) or (International Journal Of Epidemiology)1139 1228\n",
      "Similarity Score: 0.99 (International Joural Of Epidemiology) or (International Journal Of Epidemiology)1139 1229\n",
      "Similarity Score: 0.99 (International Joural Of Epidemiology) or (International Joural Of Epidemiology)1140 1141\n",
      "Similarity Score: 0.99 (International Joural Of Epidemiology) or (International Joural Of Epidemiology)1140 1172\n",
      "Similarity Score: 0.99 (International Joural Of Epidemiology) or (International Joural Of Epidemiology)1140 1227\n",
      "Similarity Score: 0.99 (International Joural Of Epidemiology) or (International Joural Of Epidemiology)1140 1228\n",
      "Similarity Score: 0.99 (International Joural Of Epidemiology) or (International Joural Of Epidemiology)1140 1229\n",
      "Similarity Score: 0.99 (International Joural Of Epidemiology) or (International Joural Of Epidemiology)1141 1172\n",
      "Similarity Score: 0.99 (International Joural Of Epidemiology) or (International Joural Of Epidemiology)1141 1227\n",
      "Similarity Score: 0.99 (International Joural Of Epidemiology) or (International Joural Of Epidemiology)1141 1228\n",
      "Similarity Score: 0.99 (International Joural Of Epidemiology) or (International Joural Of Epidemiology)1141 1229\n",
      "Similarity Score: 0.95 (International Joural Of Epidemiology) or (International Joural Of Epidemiology)1172 1227\n",
      "Similarity Score: 0.95 (International Joural Of Epidemiology) or (International Joural Of Epidemiology)1172 1228\n",
      "Similarity Score: 0.95 (International Joural Of Epidemiology) or (International Joural Of Epidemiology)1172 1229\n",
      "Similarity Score: 0.9 (Cerebral Cortex Print) or (Cerebral Cortex)1182 1205\n",
      "Similarity Score: 0.9 (Cerebral Cortex Print) or (Cerebral Cortex)1182 1206\n",
      "Similarity Score: 0.9 (Cerebral Cortex Print) or (Cerebral Cortex)1182 1207\n",
      "Similarity Score: 0.92 (Biinformatics) or (Bioinformatics)1187 1188\n",
      "Similarity Score: 0.92 (Biinformatics) or (Bioinformatics)1187 1189\n",
      "Similarity Score: 0.92 (Biinformatics) or (Bioinformatics)1187 1190\n",
      "Similarity Score: 0.92 (Biinformatics) or (Bioinformatics)1187 1191\n",
      "Similarity Score: 0.92 (Biinformatics) or (Biinformatics)1188 1189\n",
      "Similarity Score: 0.92 (Biinformatics) or (Biinformatics)1188 1190\n",
      "Similarity Score: 0.92 (Biinformatics) or (Biinformatics)1188 1191\n",
      "Similarity Score: 0.92 (Biinformatics) or (Biinformatics)1189 1190\n",
      "Similarity Score: 0.92 (Biinformatics) or (Biinformatics)1189 1191\n",
      "Similarity Score: 0.92 (Biinformatics) or (Biinformatics)1190 1191\n",
      "Similarity Score: 0.9 (Cerebral Cortex Print) or (Cerebral Cortex Print)1205 1206\n",
      "Similarity Score: 0.9 (Cerebral Cortex Print) or (Cerebral Cortex Print)1205 1207\n",
      "Similarity Score: 0.9 (Cerebral Cortex Print) or (Cerebral Cortex Print)1206 1207\n",
      "Similarity Score: 0.92 (Human Molecular Genetics) or (Human Molecular Genetics Online)1223 1224\n",
      "Similarity Score: 0.92 (Human Molecular Genetics) or (Human Molecular Genetics)1224 1268\n",
      "Similarity Score: 0.92 (Human Molecular Genetics) or (Human Molecular Genetics)1224 1269\n",
      "Similarity Score: 0.99 (International Joural Of Epidemiology) or (International Joural Of Epidemiology)1227 1228\n",
      "Similarity Score: 0.99 (International Joural Of Epidemiology) or (International Joural Of Epidemiology)1227 1229\n",
      "Similarity Score: 0.99 (International Joural Of Epidemiology) or (International Joural Of Epidemiology)1228 1229\n",
      "Similarity Score: 0.95 (Nucleic Acid Research) or (Nucleic Acids Research)1239 1240\n",
      "Similarity Score: 0.95 (Nucleic Acid Research) or (Nucleic Acids Research)1239 1241\n"
     ]
    },
    {
     "name": "stdout",
     "output_type": "stream",
     "text": [
      "Similarity Score: 0.95 (Nucleic Acid Research) or (Nucleic Acids Research)1239 1242\n",
      "Similarity Score: 0.95 (Nucleic Acid Research) or (Nucleic Acids Research)1239 1243\n",
      "Similarity Score: 0.95 (Nucleic Acid Research) or (Nucleic Acids Research)1239 1244\n",
      "Similarity Score: 0.95 (Nucleic Acid Research) or (Nucleic Acids Research)1239 1245\n",
      "Similarity Score: 0.95 (Nucleic Acid Research) or (Nucleic Acids Research)1239 1246\n",
      "Similarity Score: 0.95 (Nucleic Acid Research) or (Nucleic Acids Research)1239 1247\n",
      "Similarity Score: 0.95 (Nucleic Acid Research) or (Nucleic Acids Research)1239 1248\n",
      "Similarity Score: 0.95 (Nucleic Acid Research) or (Nucleic Acids Research)1239 1249\n",
      "Similarity Score: 0.95 (Nucleic Acid Research) or (Nucleic Acids Research)1239 1250\n",
      "Similarity Score: 0.95 (Nucleic Acid Research) or (Nucleic Acids Research)1239 1251\n",
      "Similarity Score: 0.95 (Nucleic Acid Research) or (Nucleic Acids Research)1239 1252\n",
      "Similarity Score: 0.95 (Nucleic Acid Research) or (Nucleic Acids Research)1239 1253\n",
      "Similarity Score: 0.95 (Nucleic Acid Research) or (Nucleic Acid Research)1240 1241\n",
      "Similarity Score: 0.95 (Nucleic Acid Research) or (Nucleic Acid Research)1240 1242\n",
      "Similarity Score: 0.95 (Nucleic Acid Research) or (Nucleic Acid Research)1240 1243\n",
      "Similarity Score: 0.95 (Nucleic Acid Research) or (Nucleic Acid Research)1240 1244\n",
      "Similarity Score: 0.95 (Nucleic Acid Research) or (Nucleic Acid Research)1240 1245\n",
      "Similarity Score: 0.95 (Nucleic Acid Research) or (Nucleic Acid Research)1240 1246\n",
      "Similarity Score: 0.95 (Nucleic Acid Research) or (Nucleic Acid Research)1240 1247\n",
      "Similarity Score: 0.95 (Nucleic Acid Research) or (Nucleic Acid Research)1240 1248\n",
      "Similarity Score: 0.95 (Nucleic Acid Research) or (Nucleic Acid Research)1240 1249\n",
      "Similarity Score: 0.95 (Nucleic Acid Research) or (Nucleic Acid Research)1240 1250\n",
      "Similarity Score: 0.95 (Nucleic Acid Research) or (Nucleic Acid Research)1240 1251\n",
      "Similarity Score: 0.95 (Nucleic Acid Research) or (Nucleic Acid Research)1240 1252\n",
      "Similarity Score: 0.95 (Nucleic Acid Research) or (Nucleic Acid Research)1240 1253\n",
      "Similarity Score: 0.95 (Nucleic Acid Research) or (Nucleic Acid Research)1241 1242\n",
      "Similarity Score: 0.95 (Nucleic Acid Research) or (Nucleic Acid Research)1241 1243\n",
      "Similarity Score: 0.95 (Nucleic Acid Research) or (Nucleic Acid Research)1241 1244\n",
      "Similarity Score: 0.95 (Nucleic Acid Research) or (Nucleic Acid Research)1241 1245\n",
      "Similarity Score: 0.95 (Nucleic Acid Research) or (Nucleic Acid Research)1241 1246\n",
      "Similarity Score: 0.95 (Nucleic Acid Research) or (Nucleic Acid Research)1241 1247\n",
      "Similarity Score: 0.95 (Nucleic Acid Research) or (Nucleic Acid Research)1241 1248\n",
      "Similarity Score: 0.95 (Nucleic Acid Research) or (Nucleic Acid Research)1241 1249\n",
      "Similarity Score: 0.95 (Nucleic Acid Research) or (Nucleic Acid Research)1241 1250\n",
      "Similarity Score: 0.95 (Nucleic Acid Research) or (Nucleic Acid Research)1241 1251\n",
      "Similarity Score: 0.95 (Nucleic Acid Research) or (Nucleic Acid Research)1241 1252\n",
      "Similarity Score: 0.95 (Nucleic Acid Research) or (Nucleic Acid Research)1241 1253\n",
      "Similarity Score: 0.95 (Nucleic Acid Research) or (Nucleic Acid Research)1242 1243\n",
      "Similarity Score: 0.95 (Nucleic Acid Research) or (Nucleic Acid Research)1242 1244\n",
      "Similarity Score: 0.95 (Nucleic Acid Research) or (Nucleic Acid Research)1242 1245\n",
      "Similarity Score: 0.95 (Nucleic Acid Research) or (Nucleic Acid Research)1242 1246\n",
      "Similarity Score: 0.95 (Nucleic Acid Research) or (Nucleic Acid Research)1242 1247\n",
      "Similarity Score: 0.95 (Nucleic Acid Research) or (Nucleic Acid Research)1242 1248\n",
      "Similarity Score: 0.95 (Nucleic Acid Research) or (Nucleic Acid Research)1242 1249\n",
      "Similarity Score: 0.95 (Nucleic Acid Research) or (Nucleic Acid Research)1242 1250\n",
      "Similarity Score: 0.95 (Nucleic Acid Research) or (Nucleic Acid Research)1242 1251\n",
      "Similarity Score: 0.95 (Nucleic Acid Research) or (Nucleic Acid Research)1242 1252\n",
      "Similarity Score: 0.95 (Nucleic Acid Research) or (Nucleic Acid Research)1242 1253\n",
      "Similarity Score: 0.95 (Nucleic Acid Research) or (Nucleic Acid Research)1243 1244\n",
      "Similarity Score: 0.95 (Nucleic Acid Research) or (Nucleic Acid Research)1243 1245\n",
      "Similarity Score: 0.95 (Nucleic Acid Research) or (Nucleic Acid Research)1243 1246\n",
      "Similarity Score: 0.95 (Nucleic Acid Research) or (Nucleic Acid Research)1243 1247\n",
      "Similarity Score: 0.95 (Nucleic Acid Research) or (Nucleic Acid Research)1243 1248\n",
      "Similarity Score: 0.95 (Nucleic Acid Research) or (Nucleic Acid Research)1243 1249\n",
      "Similarity Score: 0.95 (Nucleic Acid Research) or (Nucleic Acid Research)1243 1250\n",
      "Similarity Score: 0.95 (Nucleic Acid Research) or (Nucleic Acid Research)1243 1251\n",
      "Similarity Score: 0.95 (Nucleic Acid Research) or (Nucleic Acid Research)1243 1252\n",
      "Similarity Score: 0.95 (Nucleic Acid Research) or (Nucleic Acid Research)1243 1253\n",
      "Similarity Score: 0.95 (Nucleic Acid Research) or (Nucleic Acid Research)1244 1245\n",
      "Similarity Score: 0.95 (Nucleic Acid Research) or (Nucleic Acid Research)1244 1246\n",
      "Similarity Score: 0.95 (Nucleic Acid Research) or (Nucleic Acid Research)1244 1247\n",
      "Similarity Score: 0.95 (Nucleic Acid Research) or (Nucleic Acid Research)1244 1248\n",
      "Similarity Score: 0.95 (Nucleic Acid Research) or (Nucleic Acid Research)1244 1249\n",
      "Similarity Score: 0.95 (Nucleic Acid Research) or (Nucleic Acid Research)1244 1250\n",
      "Similarity Score: 0.95 (Nucleic Acid Research) or (Nucleic Acid Research)1244 1251\n",
      "Similarity Score: 0.95 (Nucleic Acid Research) or (Nucleic Acid Research)1244 1252\n",
      "Similarity Score: 0.95 (Nucleic Acid Research) or (Nucleic Acid Research)1244 1253\n",
      "Similarity Score: 0.95 (Nucleic Acid Research) or (Nucleic Acid Research)1245 1246\n",
      "Similarity Score: 0.95 (Nucleic Acid Research) or (Nucleic Acid Research)1245 1247\n",
      "Similarity Score: 0.95 (Nucleic Acid Research) or (Nucleic Acid Research)1245 1248\n",
      "Similarity Score: 0.95 (Nucleic Acid Research) or (Nucleic Acid Research)1245 1249\n",
      "Similarity Score: 0.95 (Nucleic Acid Research) or (Nucleic Acid Research)1245 1250\n",
      "Similarity Score: 0.95 (Nucleic Acid Research) or (Nucleic Acid Research)1245 1251\n",
      "Similarity Score: 0.95 (Nucleic Acid Research) or (Nucleic Acid Research)1245 1252\n",
      "Similarity Score: 0.95 (Nucleic Acid Research) or (Nucleic Acid Research)1245 1253\n",
      "Similarity Score: 0.95 (Nucleic Acid Research) or (Nucleic Acid Research)1246 1247\n",
      "Similarity Score: 0.95 (Nucleic Acid Research) or (Nucleic Acid Research)1246 1248\n",
      "Similarity Score: 0.95 (Nucleic Acid Research) or (Nucleic Acid Research)1246 1249\n",
      "Similarity Score: 0.95 (Nucleic Acid Research) or (Nucleic Acid Research)1246 1250\n",
      "Similarity Score: 0.95 (Nucleic Acid Research) or (Nucleic Acid Research)1246 1251\n",
      "Similarity Score: 0.95 (Nucleic Acid Research) or (Nucleic Acid Research)1246 1252\n",
      "Similarity Score: 0.95 (Nucleic Acid Research) or (Nucleic Acid Research)1246 1253\n",
      "Similarity Score: 0.95 (Nucleic Acid Research) or (Nucleic Acid Research)1247 1248\n",
      "Similarity Score: 0.95 (Nucleic Acid Research) or (Nucleic Acid Research)1247 1249\n",
      "Similarity Score: 0.95 (Nucleic Acid Research) or (Nucleic Acid Research)1247 1250\n",
      "Similarity Score: 0.95 (Nucleic Acid Research) or (Nucleic Acid Research)1247 1251\n",
      "Similarity Score: 0.95 (Nucleic Acid Research) or (Nucleic Acid Research)1247 1252\n",
      "Similarity Score: 0.95 (Nucleic Acid Research) or (Nucleic Acid Research)1247 1253\n",
      "Similarity Score: 0.95 (Nucleic Acid Research) or (Nucleic Acid Research)1248 1249\n",
      "Similarity Score: 0.95 (Nucleic Acid Research) or (Nucleic Acid Research)1248 1250\n",
      "Similarity Score: 0.95 (Nucleic Acid Research) or (Nucleic Acid Research)1248 1251\n",
      "Similarity Score: 0.95 (Nucleic Acid Research) or (Nucleic Acid Research)1248 1252\n",
      "Similarity Score: 0.95 (Nucleic Acid Research) or (Nucleic Acid Research)1248 1253\n",
      "Similarity Score: 0.95 (Nucleic Acid Research) or (Nucleic Acid Research)1249 1250\n",
      "Similarity Score: 0.95 (Nucleic Acid Research) or (Nucleic Acid Research)1249 1251\n",
      "Similarity Score: 0.95 (Nucleic Acid Research) or (Nucleic Acid Research)1249 1252\n",
      "Similarity Score: 0.95 (Nucleic Acid Research) or (Nucleic Acid Research)1249 1253\n",
      "Similarity Score: 0.95 (Nucleic Acid Research) or (Nucleic Acid Research)1250 1251\n",
      "Similarity Score: 0.95 (Nucleic Acid Research) or (Nucleic Acid Research)1250 1252\n",
      "Similarity Score: 0.95 (Nucleic Acid Research) or (Nucleic Acid Research)1250 1253\n",
      "Similarity Score: 0.95 (Nucleic Acid Research) or (Nucleic Acid Research)1251 1252\n",
      "Similarity Score: 0.95 (Nucleic Acid Research) or (Nucleic Acid Research)1251 1253\n",
      "Similarity Score: 0.95 (Nucleic Acid Research) or (Nucleic Acid Research)1252 1253\n"
     ]
    }
   ],
   "source": [
    "from Levenshtein import jaro\n",
    "\n",
    "cleancolumn=df[\"Journal\"]\n",
    "\n",
    "for i, coll1 in enumerate(cleancolumn):\n",
    "    for j in range(i + 1, len(cleancolumn)):\n",
    "        coll2 = cleancolumn[j]\n",
    "        if len(coll2) - len(coll1) > 15:\n",
    "            break\n",
    "        if coll2==coll1:\n",
    "            break\n",
    "        similarity = jaro(coll1,coll2)\n",
    "        if similarity >= 0.90 and similarity != 1.0:\n",
    "            print (\"Similarity Score: \"+str(round(similarity,2))+\" \"+\"(\"+cleancolumn[i]+\")\"+\" or \"+\"(\"+cleancolumn[j]+\")\"+str(i)+\" \"+str(j))\n",
    "            cleancolumn[j]=cleancolumn[i]\n",
    "        "
   ]
  },
  {
   "cell_type": "code",
   "execution_count": 106,
   "metadata": {
    "scrolled": true
   },
   "outputs": [
    {
     "data": {
      "text/plain": [
       "Journal\n",
       "Journal Of Biological Chemistry                    54\n",
       "Neuroimage                                         31\n",
       "Human Molecular Genetics                           20\n",
       "Proceedings Of The National Academy Of Sciences    19\n",
       "Nature Communications                              19\n",
       "Name: Article, dtype: int64"
      ]
     },
     "execution_count": 106,
     "metadata": {},
     "output_type": "execute_result"
    }
   ],
   "source": [
    "# Group By Journals and Aggregate with Count\n",
    "\n",
    "df.groupby(\"Journal\").count().sort_values(\"Article\", ascending=False)[\"Article\"].head()"
   ]
  },
  {
   "cell_type": "code",
   "execution_count": 107,
   "metadata": {},
   "outputs": [],
   "source": [
    "# Get Name of Journals of Interest for Stats\n",
    "\n",
    "Journals=list(df.groupby(\"Journal\").count().sort_values(\"Article\", ascending=False)[\"Article\"].head().index)"
   ]
  },
  {
   "cell_type": "code",
   "execution_count": 108,
   "metadata": {},
   "outputs": [],
   "source": [
    "# Create Stat Tables\n",
    "\n",
    "mymean=round(df.groupby(\"Journal\").mean().loc[Journals,:],0)\n",
    "mystd=round(df.groupby(\"Journal\").std().loc[Journals,:],0)\n",
    "mymedian=round(df.groupby(\"Journal\").median().loc[Journals,:],0)\n",
    "mycount=round(df.groupby(\"Journal\").count().loc[Journals,:],0)[\"Article\"]"
   ]
  },
  {
   "cell_type": "code",
   "execution_count": 109,
   "metadata": {},
   "outputs": [],
   "source": [
    "# Concatenate Stats Table\n",
    "\n",
    "Stats=pd.concat([mymean,mystd,mymedian,mycount],axis=1)\n",
    "\n",
    "# Rename Columns\n",
    "\n",
    "Stats.columns=[\"Mean\",\"STD\",\"Median\",\"Article Count\"]"
   ]
  },
  {
   "cell_type": "code",
   "execution_count": 110,
   "metadata": {},
   "outputs": [
    {
     "data": {
      "text/html": [
       "<div>\n",
       "<style scoped>\n",
       "    .dataframe tbody tr th:only-of-type {\n",
       "        vertical-align: middle;\n",
       "    }\n",
       "\n",
       "    .dataframe tbody tr th {\n",
       "        vertical-align: top;\n",
       "    }\n",
       "\n",
       "    .dataframe thead th {\n",
       "        text-align: right;\n",
       "    }\n",
       "</style>\n",
       "<table border=\"1\" class=\"dataframe\">\n",
       "  <thead>\n",
       "    <tr style=\"text-align: right;\">\n",
       "      <th></th>\n",
       "      <th>Mean</th>\n",
       "      <th>STD</th>\n",
       "      <th>Median</th>\n",
       "      <th>Article Count</th>\n",
       "    </tr>\n",
       "    <tr>\n",
       "      <th>Journal</th>\n",
       "      <th></th>\n",
       "      <th></th>\n",
       "      <th></th>\n",
       "      <th></th>\n",
       "    </tr>\n",
       "  </thead>\n",
       "  <tbody>\n",
       "    <tr>\n",
       "      <th>Journal Of Biological Chemistry</th>\n",
       "      <td>1414.0</td>\n",
       "      <td>413.0</td>\n",
       "      <td>1288.0</td>\n",
       "      <td>54</td>\n",
       "    </tr>\n",
       "    <tr>\n",
       "      <th>Neuroimage</th>\n",
       "      <td>2212.0</td>\n",
       "      <td>273.0</td>\n",
       "      <td>2326.0</td>\n",
       "      <td>31</td>\n",
       "    </tr>\n",
       "    <tr>\n",
       "      <th>Human Molecular Genetics</th>\n",
       "      <td>2023.0</td>\n",
       "      <td>119.0</td>\n",
       "      <td>2040.0</td>\n",
       "      <td>20</td>\n",
       "    </tr>\n",
       "    <tr>\n",
       "      <th>Proceedings Of The National Academy Of Sciences</th>\n",
       "      <td>831.0</td>\n",
       "      <td>479.0</td>\n",
       "      <td>752.0</td>\n",
       "      <td>19</td>\n",
       "    </tr>\n",
       "    <tr>\n",
       "      <th>Nature Communications</th>\n",
       "      <td>3134.0</td>\n",
       "      <td>869.0</td>\n",
       "      <td>3642.0</td>\n",
       "      <td>19</td>\n",
       "    </tr>\n",
       "  </tbody>\n",
       "</table>\n",
       "</div>"
      ],
      "text/plain": [
       "                                                   Mean    STD  Median  \\\n",
       "Journal                                                                  \n",
       "Journal Of Biological Chemistry                  1414.0  413.0  1288.0   \n",
       "Neuroimage                                       2212.0  273.0  2326.0   \n",
       "Human Molecular Genetics                         2023.0  119.0  2040.0   \n",
       "Proceedings Of The National Academy Of Sciences   831.0  479.0   752.0   \n",
       "Nature Communications                            3134.0  869.0  3642.0   \n",
       "\n",
       "                                                 Article Count  \n",
       "Journal                                                         \n",
       "Journal Of Biological Chemistry                             54  \n",
       "Neuroimage                                                  31  \n",
       "Human Molecular Genetics                                    20  \n",
       "Proceedings Of The National Academy Of Sciences             19  \n",
       "Nature Communications                                       19  "
      ]
     },
     "execution_count": 110,
     "metadata": {},
     "output_type": "execute_result"
    }
   ],
   "source": [
    "Stats"
   ]
  },
  {
   "cell_type": "markdown",
   "metadata": {},
   "source": [
    "# Spell Cheker which doesn't Help\n",
    "\n",
    "from textblob import TextBlob\n",
    "\n",
    "df.Journal[1:10].apply(lambda txt: ''.join(TextBlob(txt).correct()))"
   ]
  }
 ],
 "metadata": {
  "kernelspec": {
   "display_name": "Python 3",
   "language": "python",
   "name": "python3"
  },
  "language_info": {
   "codemirror_mode": {
    "name": "ipython",
    "version": 3
   },
   "file_extension": ".py",
   "mimetype": "text/x-python",
   "name": "python",
   "nbconvert_exporter": "python",
   "pygments_lexer": "ipython3",
   "version": "3.5.6"
  }
 },
 "nbformat": 4,
 "nbformat_minor": 2
}
